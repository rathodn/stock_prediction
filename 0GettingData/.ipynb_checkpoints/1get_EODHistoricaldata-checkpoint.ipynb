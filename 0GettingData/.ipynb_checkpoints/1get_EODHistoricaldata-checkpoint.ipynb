{
 "cells": [
  {
   "cell_type": "code",
   "execution_count": 1,
   "metadata": {},
   "outputs": [],
   "source": [
    "%reset -f\n",
    "import os\n",
    "import sys\n",
    "\n",
    "PROJ_PATH = os.path.abspath(os.path.join(os.getcwd(), \"..\"))\n",
    "\n",
    "sys.path.append(PROJ_PATH) \n",
    "\n",
    "import matplotlib as mpl\n",
    "import matplotlib.pyplot as plt\n",
    "import numpy as np\n",
    "import pandas as pd\n",
    "from sklearn import metrics\n",
    "from sklearn.metrics import mean_squared_error\n",
    "import itertools\n",
    "import random\n",
    "\n",
    "import datetime as DT\n",
    "from datetime import date\n",
    "from datetime import datetime, timedelta\n",
    "#import yfinance as yf\n",
    "\n",
    "import time\n",
    "from multiprocessing import Pool as ProcessPool \n",
    "from multiprocessing.dummy import Pool as ThreadPool\n",
    "\n",
    "import requests\n",
    "from io import StringIO\n",
    "import helper_functions as hfs\n",
    "\n",
    "from requests.adapters import HTTPAdapter\n",
    "from requests.packages.urllib3.util.retry import Retry \n",
    "\n",
    "import warnings\n",
    "warnings.simplefilter(\"ignore\", UserWarning)\n",
    "warnings.filterwarnings(\"ignore\")\n",
    "\n",
    "pd.set_option(\"display.max_columns\", None)  # to see all columns of dataframe\n",
    "pd.set_option(\"display.max_rows\", None)  # to see all rows of dataframe\n",
    "pd.set_option(\"display.max_colwidth\", None)  # to see the full (un-truncated) dataframe field/cell value "
   ]
  },
  {
   "cell_type": "code",
   "execution_count": 2,
   "metadata": {
    "tags": []
   },
   "outputs": [
    {
     "name": "stdout",
     "output_type": "stream",
     "text": [
      "SPLIT_DATE:  2023-08-09\n",
      "from date: 2021-05-01 00:00:00\n",
      "(77, 7)\n"
     ]
    },
    {
     "data": {
      "text/html": [
       "<div>\n",
       "<style scoped>\n",
       "    .dataframe tbody tr th:only-of-type {\n",
       "        vertical-align: middle;\n",
       "    }\n",
       "\n",
       "    .dataframe tbody tr th {\n",
       "        vertical-align: top;\n",
       "    }\n",
       "\n",
       "    .dataframe thead th {\n",
       "        text-align: right;\n",
       "    }\n",
       "</style>\n",
       "<table border=\"1\" class=\"dataframe\">\n",
       "  <thead>\n",
       "    <tr style=\"text-align: right;\">\n",
       "      <th></th>\n",
       "      <th>Name</th>\n",
       "      <th>Code</th>\n",
       "      <th>OperatingMIC</th>\n",
       "      <th>Country</th>\n",
       "      <th>Currency</th>\n",
       "      <th>CountryISO2</th>\n",
       "      <th>CountryISO3</th>\n",
       "    </tr>\n",
       "  </thead>\n",
       "  <tbody>\n",
       "    <tr>\n",
       "      <th>0</th>\n",
       "      <td>USA Stocks</td>\n",
       "      <td>US</td>\n",
       "      <td>XNAS, XNYS</td>\n",
       "      <td>USA</td>\n",
       "      <td>USD</td>\n",
       "      <td>US</td>\n",
       "      <td>USA</td>\n",
       "    </tr>\n",
       "    <tr>\n",
       "      <th>1</th>\n",
       "      <td>London Exchange</td>\n",
       "      <td>LSE</td>\n",
       "      <td>XLON</td>\n",
       "      <td>UK</td>\n",
       "      <td>GBP</td>\n",
       "      <td>GB</td>\n",
       "      <td>GBR</td>\n",
       "    </tr>\n",
       "  </tbody>\n",
       "</table>\n",
       "</div>"
      ],
      "text/plain": [
       "              Name Code OperatingMIC Country Currency CountryISO2 CountryISO3\n",
       "0       USA Stocks   US   XNAS, XNYS     USA      USD          US         USA\n",
       "1  London Exchange  LSE         XLON      UK      GBP          GB         GBR"
      ]
     },
     "execution_count": 2,
     "metadata": {},
     "output_type": "execute_result"
    }
   ],
   "source": [
    "import configparser\n",
    "\n",
    "env_config = configparser.ConfigParser()\n",
    "env_config.read(f'{PROJ_PATH}/kye/env_config.ini')\n",
    "\n",
    "\n",
    "#env_config.read('./kye/env_config_backtest.ini')\n",
    "\n",
    "# <<<<<<<<<<<<<<< >>>>>>>>>>>>>>>>>>>>>>> #\n",
    "SPLIT_DATE = env_config['ENV_VARS']['SPLIT_DATE']\n",
    " \n",
    "config = {}\n",
    "config['api_key'] = env_config['KEYS']['DATA_KEY']\n",
    "ML_DATA_FOLDER_PATH = env_config['LOCAL_PATHS']['ML_DATA_FOLDER_PATH']\n",
    "PROCESSING_TEMP_FOLDER_PATH = env_config['LOCAL_PATHS']['PROCESSING_TEMP_FOLDER_PATH'] \n",
    "current_portfolio = env_config['PORTFOLIO']['CURRENT_PORTFOLIO'].split(\",\")\n",
    "recent_imp_tickers = env_config['PORTFOLIO']['recent_imp_tickers'].split(\",\")\n",
    "\n",
    "market_scenarios = [float(x) for x in env_config['MARKET_SCENARIOS']['SCENARIOS_LIST'].split(\",\")]\n",
    "\n",
    "#@@@@@@ **********************<<<<<<<<<<<<#\n",
    "\n",
    "print(\"SPLIT_DATE: \", SPLIT_DATE)\n",
    "today = str(date.today())\n",
    "FROM_DATE = pd.to_datetime(date.today(), format='%Y-%m-%d') - DT.timedelta(days=((365*2) + 100)) # \"2016-01-01\"\n",
    "to_date = str(date.today())\n",
    "print(\"from date:\", FROM_DATE)\n",
    " \n",
    "res_exchanges = requests.get(\"https://eodhistoricaldata.com/api/exchanges-list?api_token=\" + config['api_key'])\n",
    "res_exchanges = res_exchanges.json() \n",
    "exchanges = pd.json_normalize(res_exchanges) \n",
    "print(exchanges.shape)\n",
    "exchanges.head(2) "
   ]
  },
  {
   "cell_type": "markdown",
   "metadata": {},
   "source": [
    "# Get Ticker list"
   ]
  },
  {
   "cell_type": "code",
   "execution_count": 3,
   "metadata": {},
   "outputs": [
    {
     "name": "stdout",
     "output_type": "stream",
     "text": [
      "(49808, 7)\n"
     ]
    },
    {
     "data": {
      "text/html": [
       "<div>\n",
       "<style scoped>\n",
       "    .dataframe tbody tr th:only-of-type {\n",
       "        vertical-align: middle;\n",
       "    }\n",
       "\n",
       "    .dataframe tbody tr th {\n",
       "        vertical-align: top;\n",
       "    }\n",
       "\n",
       "    .dataframe thead th {\n",
       "        text-align: right;\n",
       "    }\n",
       "</style>\n",
       "<table border=\"1\" class=\"dataframe\">\n",
       "  <thead>\n",
       "    <tr style=\"text-align: right;\">\n",
       "      <th></th>\n",
       "      <th>Code</th>\n",
       "      <th>Name</th>\n",
       "      <th>Country</th>\n",
       "      <th>Exchange</th>\n",
       "      <th>Currency</th>\n",
       "      <th>Type</th>\n",
       "      <th>Isin</th>\n",
       "    </tr>\n",
       "  </thead>\n",
       "  <tbody>\n",
       "    <tr>\n",
       "      <th>49806</th>\n",
       "      <td>ZZLL</td>\n",
       "      <td>ZZLL Information Technology Inc</td>\n",
       "      <td>USA</td>\n",
       "      <td>PINK</td>\n",
       "      <td>USD</td>\n",
       "      <td>Common Stock</td>\n",
       "      <td>US98880P2020</td>\n",
       "    </tr>\n",
       "    <tr>\n",
       "      <th>49807</th>\n",
       "      <td>ZZZOF</td>\n",
       "      <td>Zinc One Resources Inc</td>\n",
       "      <td>USA</td>\n",
       "      <td>PINK</td>\n",
       "      <td>USD</td>\n",
       "      <td>Common Stock</td>\n",
       "      <td>NaN</td>\n",
       "    </tr>\n",
       "  </tbody>\n",
       "</table>\n",
       "</div>"
      ],
      "text/plain": [
       "        Code                             Name Country Exchange Currency  \\\n",
       "49806   ZZLL  ZZLL Information Technology Inc     USA     PINK      USD   \n",
       "49807  ZZZOF           Zinc One Resources Inc     USA     PINK      USD   \n",
       "\n",
       "               Type          Isin  \n",
       "49806  Common Stock  US98880P2020  \n",
       "49807  Common Stock           NaN  "
      ]
     },
     "execution_count": 3,
     "metadata": {},
     "output_type": "execute_result"
    }
   ],
   "source": [
    "def get_ticker_list(exchange_Code = \"US\", api_token = config['api_key'], session=None):\n",
    "\n",
    "    if session is None:\n",
    "\n",
    "        session = requests.Session()\n",
    "        \n",
    "        url = \"https://eodhistoricaldata.com/api/exchange-symbol-list/\"+ exchange_Code + \"?api_token=\" + config['api_key']\n",
    "               \n",
    "        r = session.get(url)\n",
    "\n",
    "        if r.status_code == requests.codes.ok:\n",
    "\n",
    "            df = pd.read_csv(StringIO(r.text), skipfooter=0, engine='python').reset_index(drop=True)\n",
    "\n",
    "            return df\n",
    "\n",
    "        else: \n",
    "            raise Exception(r.status_code, r.reason, url) \n",
    "\n",
    "            \n",
    "# Download USA stocks data here:\n",
    "# https://eodhistoricaldata.com/api/exchange-symbol-list/US?api_token=5f67cd8054e893.64203500\n",
    "# !pip install git+https://github.com/femtotrader/python-eodhistoricaldata.git\n",
    "\n",
    "USA_tickers = get_ticker_list(exchange_Code = \"US\", api_token = config['api_key'])\n",
    "print(USA_tickers.shape)\n",
    "USA_tickers.tail(2) "
   ]
  },
  {
   "cell_type": "code",
   "execution_count": 4,
   "metadata": {},
   "outputs": [
    {
     "data": {
      "text/plain": [
       "NMFQS        25679\n",
       "PINK          9825\n",
       "NASDAQ        5435\n",
       "NYSE          3022\n",
       "NYSE ARCA     2073\n",
       "OTCQB         1172\n",
       "BATS           634\n",
       "OTCQX          607\n",
       "OTCGREY        509\n",
       "OTCCE          478\n",
       "NYSE MKT       313\n",
       "OTCMKTS         46\n",
       "US               6\n",
       "AMEX             5\n",
       "Name: Exchange, dtype: int64"
      ]
     },
     "execution_count": 4,
     "metadata": {},
     "output_type": "execute_result"
    }
   ],
   "source": [
    "USA_tickers['Exchange'].value_counts()"
   ]
  },
  {
   "cell_type": "code",
   "execution_count": 5,
   "metadata": {},
   "outputs": [
    {
     "name": "stdout",
     "output_type": "stream",
     "text": [
      "(7443, 7)\n"
     ]
    },
    {
     "data": {
      "text/html": [
       "<div>\n",
       "<style scoped>\n",
       "    .dataframe tbody tr th:only-of-type {\n",
       "        vertical-align: middle;\n",
       "    }\n",
       "\n",
       "    .dataframe tbody tr th {\n",
       "        vertical-align: top;\n",
       "    }\n",
       "\n",
       "    .dataframe thead th {\n",
       "        text-align: right;\n",
       "    }\n",
       "</style>\n",
       "<table border=\"1\" class=\"dataframe\">\n",
       "  <thead>\n",
       "    <tr style=\"text-align: right;\">\n",
       "      <th></th>\n",
       "      <th>Code</th>\n",
       "      <th>company_Name</th>\n",
       "      <th>Country</th>\n",
       "      <th>Exchange</th>\n",
       "      <th>Currency</th>\n",
       "      <th>Type</th>\n",
       "      <th>Isin</th>\n",
       "    </tr>\n",
       "  </thead>\n",
       "  <tbody>\n",
       "    <tr>\n",
       "      <th>0</th>\n",
       "      <td>A</td>\n",
       "      <td>Agilent Technologies Inc</td>\n",
       "      <td>USA</td>\n",
       "      <td>NYSE</td>\n",
       "      <td>USD</td>\n",
       "      <td>Common Stock</td>\n",
       "      <td>US00846U1016</td>\n",
       "    </tr>\n",
       "    <tr>\n",
       "      <th>1</th>\n",
       "      <td>AA</td>\n",
       "      <td>Alcoa Corp</td>\n",
       "      <td>USA</td>\n",
       "      <td>NYSE</td>\n",
       "      <td>USD</td>\n",
       "      <td>Common Stock</td>\n",
       "      <td>US0138721065</td>\n",
       "    </tr>\n",
       "  </tbody>\n",
       "</table>\n",
       "</div>"
      ],
      "text/plain": [
       "  Code              company_Name Country Exchange Currency          Type  \\\n",
       "0    A  Agilent Technologies Inc     USA     NYSE      USD  Common Stock   \n",
       "1   AA                Alcoa Corp     USA     NYSE      USD  Common Stock   \n",
       "\n",
       "           Isin  \n",
       "0  US00846U1016  \n",
       "1  US0138721065  "
      ]
     },
     "execution_count": 5,
     "metadata": {},
     "output_type": "execute_result"
    }
   ],
   "source": [
    "stocks_NYSE_NASDAQ = USA_tickers[ ( USA_tickers['Exchange'].isin(['NYSE','NASDAQ','NYSE ARCA','NYSE MKT'\n",
    "                                                                  ]) ) \n",
    "                           & ( USA_tickers['Type'].isin(['Common Stock']) ) \n",
    "                         ].reset_index(drop=True)\n",
    "stocks_NYSE_NASDAQ.rename(columns={\"Name\" : \"company_Name\"} , inplace=True)\n",
    "print(stocks_NYSE_NASDAQ.shape) \n",
    "stocks_NYSE_NASDAQ.head(2) "
   ]
  },
  {
   "cell_type": "code",
   "execution_count": 6,
   "metadata": {},
   "outputs": [
    {
     "data": {
      "text/plain": [
       "NASDAQ       4622\n",
       "NYSE         2470\n",
       "NYSE MKT      278\n",
       "NYSE ARCA      73\n",
       "Name: Exchange, dtype: int64"
      ]
     },
     "execution_count": 6,
     "metadata": {},
     "output_type": "execute_result"
    }
   ],
   "source": [
    "stocks_NYSE_NASDAQ['Exchange'].value_counts()"
   ]
  },
  {
   "cell_type": "markdown",
   "metadata": {},
   "source": [
    "# Historical Prices"
   ]
  },
  {
   "cell_type": "code",
   "execution_count": 7,
   "metadata": {},
   "outputs": [],
   "source": [
    "def get_stock_history_eod(symbol=\"AAPL\", from_yyyy_mm_dd = \"all\", to_yyyy_mm_dd = \"all\", api_token = config['api_key']):\n",
    "     \n",
    "    #print(f\"symbol: {symbol}\")\n",
    "    if from_yyyy_mm_dd != \"all\":\n",
    "        url = \"https://eodhistoricaldata.com/api/eod/\" + symbol + \".US?from=\"+from_yyyy_mm_dd+\"&to=\"+to_yyyy_mm_dd+\"&api_token=\" + config['api_key'] + \"&period=d\"\n",
    "    else:\n",
    "        url = \"https://eodhistoricaldata.com/api/eod/\" + symbol + \".US?&api_token=\" + config['api_key'] + \"&period=d\"\n",
    "\n",
    "    #print(url)\n",
    "    r = hfs.requests_retry_session().get(url)\n",
    "    c = 0\n",
    "    while r.status_code != requests.codes.ok:\n",
    "\n",
    "        if r.status_code == 429: \n",
    "            #print(\"waiting 5 sec for \", symbol)\n",
    "            if c == 5:\n",
    "                print(\"c == 5 breaking\", symbol)\n",
    "                break\n",
    "            time.sleep(random.randint(3, 6))\n",
    "            try:\n",
    "                r = hfs.requests_retry_session().get(url)\n",
    "                c+=1\n",
    "            except:\n",
    "                continue\n",
    "\n",
    "        else:\n",
    "            print(symbol, \" breaking : \" + str(r.status_code) + \" <> status code\") \n",
    "            break\n",
    "            #return pd.DataFrame([{'Ticker' : symbol,  'Open' : r.reason,  'Date' : r.status_code,  'Close': url}]).reset_index(drop=True)\n",
    "            print(\"******* raising Exception *****\",type(r.status_code), r.status_code)\n",
    "            raise Exception(symbol, r.status_code, r.reason, url) \n",
    "\n",
    "    else:\n",
    "\n",
    "        df = pd.read_csv(StringIO(r.text), skipfooter=0, engine='python').reset_index(drop=True) # \n",
    "        df['Ticker'] = symbol\n",
    "        return df.reset_index(drop=True) "
   ]
  },
  {
   "cell_type": "code",
   "execution_count": null,
   "metadata": {},
   "outputs": [],
   "source": []
  },
  {
   "cell_type": "markdown",
   "metadata": {},
   "source": [
    "### Getting Daily OHLCV"
   ]
  },
  {
   "cell_type": "code",
   "execution_count": 9,
   "metadata": {
    "tags": []
   },
   "outputs": [
    {
     "name": "stdout",
     "output_type": "stream",
     "text": [
      "7442\n",
      "7442\n",
      "total #tickers:  7442\n",
      "chunk  1 :  995\n",
      "chunk  2 :  995\n",
      "chunk  3 :  995\n",
      "chunk  4 :  995\n",
      "chunk  5 :  995\n",
      "chunk  6 :  995\n",
      "chunk  7 :  995\n",
      "chunk  8 :  477\n",
      "total time:  586.5408220291138\n",
      "returning df\n",
      "unique #tickers:  7438\n",
      "(3774182, 9)\n"
     ]
    },
    {
     "data": {
      "text/html": [
       "<div>\n",
       "<style scoped>\n",
       "    .dataframe tbody tr th:only-of-type {\n",
       "        vertical-align: middle;\n",
       "    }\n",
       "\n",
       "    .dataframe tbody tr th {\n",
       "        vertical-align: top;\n",
       "    }\n",
       "\n",
       "    .dataframe thead th {\n",
       "        text-align: right;\n",
       "    }\n",
       "</style>\n",
       "<table border=\"1\" class=\"dataframe\">\n",
       "  <thead>\n",
       "    <tr style=\"text-align: right;\">\n",
       "      <th></th>\n",
       "      <th>Date</th>\n",
       "      <th>Open</th>\n",
       "      <th>High</th>\n",
       "      <th>Low</th>\n",
       "      <th>Close</th>\n",
       "      <th>Adjusted_close</th>\n",
       "      <th>Volume</th>\n",
       "      <th>Ticker</th>\n",
       "      <th>Value</th>\n",
       "    </tr>\n",
       "  </thead>\n",
       "  <tbody>\n",
       "    <tr>\n",
       "      <th>3774180</th>\n",
       "      <td>2023-08-08</td>\n",
       "      <td>8.01</td>\n",
       "      <td>8.02</td>\n",
       "      <td>7.69</td>\n",
       "      <td>7.76</td>\n",
       "      <td>7.76</td>\n",
       "      <td>373000.0</td>\n",
       "      <td>ZYXI</td>\n",
       "      <td>NaN</td>\n",
       "    </tr>\n",
       "    <tr>\n",
       "      <th>3774181</th>\n",
       "      <td>2023-08-09</td>\n",
       "      <td>7.78</td>\n",
       "      <td>8.09</td>\n",
       "      <td>7.63</td>\n",
       "      <td>7.69</td>\n",
       "      <td>7.69</td>\n",
       "      <td>267016.0</td>\n",
       "      <td>ZYXI</td>\n",
       "      <td>NaN</td>\n",
       "    </tr>\n",
       "  </tbody>\n",
       "</table>\n",
       "</div>"
      ],
      "text/plain": [
       "               Date  Open  High   Low  Close  Adjusted_close    Volume Ticker  \\\n",
       "3774180  2023-08-08  8.01  8.02  7.69   7.76            7.76  373000.0   ZYXI   \n",
       "3774181  2023-08-09  7.78  8.09  7.63   7.69            7.69  267016.0   ZYXI   \n",
       "\n",
       "        Value  \n",
       "3774180   NaN  \n",
       "3774181   NaN  "
      ]
     },
     "execution_count": 9,
     "metadata": {},
     "output_type": "execute_result"
    }
   ],
   "source": [
    "print(stocks_NYSE_NASDAQ['Code'].nunique()) \n",
    "tickers = [x for x in stocks_NYSE_NASDAQ['Code'].unique() if x==x]\n",
    "print(len(tickers))\n",
    "print(\"total #tickers: \", len(tickers))\n",
    "\n",
    "args = ((symbol,      \n",
    "        str(FROM_DATE).split()[0],   # From date\n",
    "         str(date.today()), # to date\n",
    "        config['api_key']) for symbol in tickers )\n",
    "\n",
    "stocks_daily_ohlcv = hfs.get_data_from_API(tickers = tickers,\n",
    "                                          func_to_run = get_stock_history_eod,\n",
    "                                          func_args = args ) \n",
    "\n",
    "print(\"unique #tickers: \", stocks_daily_ohlcv['Ticker'].nunique()) \n",
    "print(stocks_daily_ohlcv.shape) \n",
    "stocks_daily_ohlcv.tail(2) "
   ]
  },
  {
   "cell_type": "code",
   "execution_count": 10,
   "metadata": {},
   "outputs": [
    {
     "data": {
      "text/html": [
       "<div>\n",
       "<style scoped>\n",
       "    .dataframe tbody tr th:only-of-type {\n",
       "        vertical-align: middle;\n",
       "    }\n",
       "\n",
       "    .dataframe tbody tr th {\n",
       "        vertical-align: top;\n",
       "    }\n",
       "\n",
       "    .dataframe thead th {\n",
       "        text-align: right;\n",
       "    }\n",
       "</style>\n",
       "<table border=\"1\" class=\"dataframe\">\n",
       "  <thead>\n",
       "    <tr style=\"text-align: right;\">\n",
       "      <th></th>\n",
       "      <th>Date</th>\n",
       "      <th>Open</th>\n",
       "      <th>High</th>\n",
       "      <th>Low</th>\n",
       "      <th>Close</th>\n",
       "      <th>Adjusted_close</th>\n",
       "      <th>Volume</th>\n",
       "      <th>Ticker</th>\n",
       "      <th>Value</th>\n",
       "    </tr>\n",
       "  </thead>\n",
       "  <tbody>\n",
       "    <tr>\n",
       "      <th>0</th>\n",
       "      <td>2021-05-03</td>\n",
       "      <td>134.29</td>\n",
       "      <td>134.3099</td>\n",
       "      <td>132.61</td>\n",
       "      <td>133.19</td>\n",
       "      <td>131.3439</td>\n",
       "      <td>1032021.0</td>\n",
       "      <td>A</td>\n",
       "      <td>NaN</td>\n",
       "    </tr>\n",
       "    <tr>\n",
       "      <th>1</th>\n",
       "      <td>2021-05-04</td>\n",
       "      <td>132.12</td>\n",
       "      <td>132.5100</td>\n",
       "      <td>130.35</td>\n",
       "      <td>130.90</td>\n",
       "      <td>129.0856</td>\n",
       "      <td>1752428.0</td>\n",
       "      <td>A</td>\n",
       "      <td>NaN</td>\n",
       "    </tr>\n",
       "  </tbody>\n",
       "</table>\n",
       "</div>"
      ],
      "text/plain": [
       "         Date    Open      High     Low   Close  Adjusted_close     Volume  \\\n",
       "0  2021-05-03  134.29  134.3099  132.61  133.19        131.3439  1032021.0   \n",
       "1  2021-05-04  132.12  132.5100  130.35  130.90        129.0856  1752428.0   \n",
       "\n",
       "  Ticker Value  \n",
       "0      A   NaN  \n",
       "1      A   NaN  "
      ]
     },
     "execution_count": 10,
     "metadata": {},
     "output_type": "execute_result"
    }
   ],
   "source": [
    "stocks_daily_ohlcv['day_of_week'] = pd.to_datetime(stocks_daily_ohlcv['Date'])\n",
    "stocks_daily_ohlcv['day_of_week'] = [x.weekday() for x in stocks_daily_ohlcv['day_of_week']]\n",
    "stocks_daily_ohlcv = stocks_daily_ohlcv[stocks_daily_ohlcv['day_of_week']<=4].reset_index(drop=True)\n",
    "del stocks_daily_ohlcv['day_of_week']\n",
    "stocks_daily_ohlcv.head(2) "
   ]
  },
  {
   "cell_type": "code",
   "execution_count": 11,
   "metadata": {},
   "outputs": [
    {
     "name": "stdout",
     "output_type": "stream",
     "text": [
      "(3484215, 9)\n"
     ]
    },
    {
     "data": {
      "text/plain": [
       "6671"
      ]
     },
     "execution_count": 11,
     "metadata": {},
     "output_type": "execute_result"
    }
   ],
   "source": [
    "active_tickers = stocks_daily_ohlcv['Ticker'][stocks_daily_ohlcv['Date']==SPLIT_DATE].unique()\n",
    "stocks_daily_ohlcv = stocks_daily_ohlcv[stocks_daily_ohlcv['Ticker'].isin([x for x in active_tickers])].reset_index(drop=True)\n",
    "print(stocks_daily_ohlcv.shape)\n",
    "stocks_daily_ohlcv.head(2)\n",
    "len(active_tickers) "
   ]
  },
  {
   "cell_type": "code",
   "execution_count": 12,
   "metadata": {},
   "outputs": [
    {
     "data": {
      "text/plain": [
       "(6671, 9)"
      ]
     },
     "execution_count": 12,
     "metadata": {},
     "output_type": "execute_result"
    }
   ],
   "source": [
    "stocks_daily_ohlcv[stocks_daily_ohlcv['Date']==SPLIT_DATE].shape "
   ]
  },
  {
   "cell_type": "code",
   "execution_count": 13,
   "metadata": {},
   "outputs": [
    {
     "name": "stdout",
     "output_type": "stream",
     "text": [
      "(3484215, 11)\n"
     ]
    },
    {
     "data": {
      "text/html": [
       "<div>\n",
       "<style scoped>\n",
       "    .dataframe tbody tr th:only-of-type {\n",
       "        vertical-align: middle;\n",
       "    }\n",
       "\n",
       "    .dataframe tbody tr th {\n",
       "        vertical-align: top;\n",
       "    }\n",
       "\n",
       "    .dataframe thead th {\n",
       "        text-align: right;\n",
       "    }\n",
       "</style>\n",
       "<table border=\"1\" class=\"dataframe\">\n",
       "  <thead>\n",
       "    <tr style=\"text-align: right;\">\n",
       "      <th></th>\n",
       "      <th>Date</th>\n",
       "      <th>Open</th>\n",
       "      <th>High</th>\n",
       "      <th>Low</th>\n",
       "      <th>Close</th>\n",
       "      <th>Adjusted_close</th>\n",
       "      <th>Volume</th>\n",
       "      <th>Ticker</th>\n",
       "      <th>Value</th>\n",
       "      <th>company_Name</th>\n",
       "      <th>Exchange</th>\n",
       "    </tr>\n",
       "  </thead>\n",
       "  <tbody>\n",
       "    <tr>\n",
       "      <th>3484213</th>\n",
       "      <td>2023-08-08</td>\n",
       "      <td>8.01</td>\n",
       "      <td>8.02</td>\n",
       "      <td>7.69</td>\n",
       "      <td>7.76</td>\n",
       "      <td>7.76</td>\n",
       "      <td>373000.0</td>\n",
       "      <td>ZYXI</td>\n",
       "      <td>NaN</td>\n",
       "      <td>Zynex Inc</td>\n",
       "      <td>NASDAQ</td>\n",
       "    </tr>\n",
       "    <tr>\n",
       "      <th>3484214</th>\n",
       "      <td>2023-08-09</td>\n",
       "      <td>7.78</td>\n",
       "      <td>8.09</td>\n",
       "      <td>7.63</td>\n",
       "      <td>7.69</td>\n",
       "      <td>7.69</td>\n",
       "      <td>267016.0</td>\n",
       "      <td>ZYXI</td>\n",
       "      <td>NaN</td>\n",
       "      <td>Zynex Inc</td>\n",
       "      <td>NASDAQ</td>\n",
       "    </tr>\n",
       "  </tbody>\n",
       "</table>\n",
       "</div>"
      ],
      "text/plain": [
       "               Date  Open  High   Low  Close  Adjusted_close    Volume Ticker  \\\n",
       "3484213  2023-08-08  8.01  8.02  7.69   7.76            7.76  373000.0   ZYXI   \n",
       "3484214  2023-08-09  7.78  8.09  7.63   7.69            7.69  267016.0   ZYXI   \n",
       "\n",
       "        Value company_Name Exchange  \n",
       "3484213   NaN    Zynex Inc   NASDAQ  \n",
       "3484214   NaN    Zynex Inc   NASDAQ  "
      ]
     },
     "execution_count": 13,
     "metadata": {},
     "output_type": "execute_result"
    }
   ],
   "source": [
    "stocks_daily_ohlcv = pd.merge(stocks_daily_ohlcv, stocks_NYSE_NASDAQ[['Code', 'company_Name','Exchange']], \n",
    "                              how = \"left\", left_on=['Ticker'] , right_on = ['Code']) \n",
    "del stocks_daily_ohlcv['Code'] \n",
    "print(stocks_daily_ohlcv.shape) \n",
    "stocks_daily_ohlcv.tail(2) "
   ]
  },
  {
   "cell_type": "code",
   "execution_count": 14,
   "metadata": {},
   "outputs": [],
   "source": [
    "stocks_daily_ohlcv = stocks_daily_ohlcv[stocks_daily_ohlcv['Ticker'].apply(lambda x: '-' not in x)].reset_index(drop=True)"
   ]
  },
  {
   "cell_type": "code",
   "execution_count": 15,
   "metadata": {},
   "outputs": [
    {
     "name": "stdout",
     "output_type": "stream",
     "text": [
      "(3388750, 11)\n"
     ]
    },
    {
     "data": {
      "text/html": [
       "<div>\n",
       "<style scoped>\n",
       "    .dataframe tbody tr th:only-of-type {\n",
       "        vertical-align: middle;\n",
       "    }\n",
       "\n",
       "    .dataframe tbody tr th {\n",
       "        vertical-align: top;\n",
       "    }\n",
       "\n",
       "    .dataframe thead th {\n",
       "        text-align: right;\n",
       "    }\n",
       "</style>\n",
       "<table border=\"1\" class=\"dataframe\">\n",
       "  <thead>\n",
       "    <tr style=\"text-align: right;\">\n",
       "      <th></th>\n",
       "      <th>Date</th>\n",
       "      <th>Open</th>\n",
       "      <th>High</th>\n",
       "      <th>Low</th>\n",
       "      <th>Close</th>\n",
       "      <th>Adjusted_close</th>\n",
       "      <th>Volume</th>\n",
       "      <th>Ticker</th>\n",
       "      <th>Value</th>\n",
       "      <th>company_Name</th>\n",
       "      <th>Exchange</th>\n",
       "    </tr>\n",
       "  </thead>\n",
       "  <tbody>\n",
       "    <tr>\n",
       "      <th>3388748</th>\n",
       "      <td>2023-08-08</td>\n",
       "      <td>8.01</td>\n",
       "      <td>8.02</td>\n",
       "      <td>7.69</td>\n",
       "      <td>7.76</td>\n",
       "      <td>7.76</td>\n",
       "      <td>373000.0</td>\n",
       "      <td>ZYXI</td>\n",
       "      <td>NaN</td>\n",
       "      <td>Zynex Inc</td>\n",
       "      <td>NASDAQ</td>\n",
       "    </tr>\n",
       "    <tr>\n",
       "      <th>3388749</th>\n",
       "      <td>2023-08-09</td>\n",
       "      <td>7.78</td>\n",
       "      <td>8.09</td>\n",
       "      <td>7.63</td>\n",
       "      <td>7.69</td>\n",
       "      <td>7.69</td>\n",
       "      <td>267016.0</td>\n",
       "      <td>ZYXI</td>\n",
       "      <td>NaN</td>\n",
       "      <td>Zynex Inc</td>\n",
       "      <td>NASDAQ</td>\n",
       "    </tr>\n",
       "  </tbody>\n",
       "</table>\n",
       "</div>"
      ],
      "text/plain": [
       "               Date  Open  High   Low  Close  Adjusted_close    Volume Ticker  \\\n",
       "3388748  2023-08-08  8.01  8.02  7.69   7.76            7.76  373000.0   ZYXI   \n",
       "3388749  2023-08-09  7.78  8.09  7.63   7.69            7.69  267016.0   ZYXI   \n",
       "\n",
       "        Value company_Name Exchange  \n",
       "3388748   NaN    Zynex Inc   NASDAQ  \n",
       "3388749   NaN    Zynex Inc   NASDAQ  "
      ]
     },
     "execution_count": 15,
     "metadata": {},
     "output_type": "execute_result"
    }
   ],
   "source": [
    "stocks_daily_ohlcv = stocks_daily_ohlcv[-pd.isnull(stocks_daily_ohlcv['Close'])].reset_index(drop=True) \n",
    "print(stocks_daily_ohlcv.shape) \n",
    "stocks_daily_ohlcv.tail(2) "
   ]
  },
  {
   "cell_type": "code",
   "execution_count": 16,
   "metadata": {},
   "outputs": [
    {
     "data": {
      "text/html": [
       "<div>\n",
       "<style scoped>\n",
       "    .dataframe tbody tr th:only-of-type {\n",
       "        vertical-align: middle;\n",
       "    }\n",
       "\n",
       "    .dataframe tbody tr th {\n",
       "        vertical-align: top;\n",
       "    }\n",
       "\n",
       "    .dataframe thead th {\n",
       "        text-align: right;\n",
       "    }\n",
       "</style>\n",
       "<table border=\"1\" class=\"dataframe\">\n",
       "  <thead>\n",
       "    <tr style=\"text-align: right;\">\n",
       "      <th></th>\n",
       "      <th>Date</th>\n",
       "      <th>Open</th>\n",
       "      <th>High</th>\n",
       "      <th>Low</th>\n",
       "      <th>Close</th>\n",
       "      <th>Adjusted_close</th>\n",
       "      <th>Volume</th>\n",
       "      <th>Ticker</th>\n",
       "      <th>Value</th>\n",
       "      <th>company_Name</th>\n",
       "      <th>Exchange</th>\n",
       "    </tr>\n",
       "  </thead>\n",
       "  <tbody>\n",
       "    <tr>\n",
       "      <th>0</th>\n",
       "      <td>2021-05-03</td>\n",
       "      <td>134.29</td>\n",
       "      <td>134.3099</td>\n",
       "      <td>132.61</td>\n",
       "      <td>133.19</td>\n",
       "      <td>131.3439</td>\n",
       "      <td>1032021.0</td>\n",
       "      <td>A</td>\n",
       "      <td>NaN</td>\n",
       "      <td>Agilent Technologies Inc</td>\n",
       "      <td>NYSE</td>\n",
       "    </tr>\n",
       "    <tr>\n",
       "      <th>1</th>\n",
       "      <td>2021-05-04</td>\n",
       "      <td>132.12</td>\n",
       "      <td>132.5100</td>\n",
       "      <td>130.35</td>\n",
       "      <td>130.90</td>\n",
       "      <td>129.0856</td>\n",
       "      <td>1752428.0</td>\n",
       "      <td>A</td>\n",
       "      <td>NaN</td>\n",
       "      <td>Agilent Technologies Inc</td>\n",
       "      <td>NYSE</td>\n",
       "    </tr>\n",
       "  </tbody>\n",
       "</table>\n",
       "</div>"
      ],
      "text/plain": [
       "         Date    Open      High     Low   Close  Adjusted_close     Volume  \\\n",
       "0  2021-05-03  134.29  134.3099  132.61  133.19        131.3439  1032021.0   \n",
       "1  2021-05-04  132.12  132.5100  130.35  130.90        129.0856  1752428.0   \n",
       "\n",
       "  Ticker Value              company_Name Exchange  \n",
       "0      A   NaN  Agilent Technologies Inc     NYSE  \n",
       "1      A   NaN  Agilent Technologies Inc     NYSE  "
      ]
     },
     "execution_count": 16,
     "metadata": {},
     "output_type": "execute_result"
    }
   ],
   "source": [
    "stocks_daily_ohlcv.head(2) "
   ]
  },
  {
   "cell_type": "code",
   "execution_count": 17,
   "metadata": {},
   "outputs": [],
   "source": [
    "#stocks_daily_ohlcv.rename(columns={\"company_Name_x\" : \"company_Name\"}, inplace=True)"
   ]
  },
  {
   "cell_type": "markdown",
   "metadata": {},
   "source": [
    "### OHLCV Adjust for splits"
   ]
  },
  {
   "cell_type": "code",
   "execution_count": 18,
   "metadata": {},
   "outputs": [
    {
     "name": "stdout",
     "output_type": "stream",
     "text": [
      "SPLIT_DATE:  2023-08-09\n",
      "(3388750, 10)\n"
     ]
    },
    {
     "data": {
      "text/html": [
       "<div>\n",
       "<style scoped>\n",
       "    .dataframe tbody tr th:only-of-type {\n",
       "        vertical-align: middle;\n",
       "    }\n",
       "\n",
       "    .dataframe tbody tr th {\n",
       "        vertical-align: top;\n",
       "    }\n",
       "\n",
       "    .dataframe thead th {\n",
       "        text-align: right;\n",
       "    }\n",
       "</style>\n",
       "<table border=\"1\" class=\"dataframe\">\n",
       "  <thead>\n",
       "    <tr style=\"text-align: right;\">\n",
       "      <th></th>\n",
       "      <th>company_Name</th>\n",
       "      <th>Exchange</th>\n",
       "      <th>Ticker</th>\n",
       "      <th>Date</th>\n",
       "      <th>Adjusted_Open</th>\n",
       "      <th>Adjusted_High</th>\n",
       "      <th>Adjusted_Low</th>\n",
       "      <th>Adjusted_close</th>\n",
       "      <th>Adjusted_Volume</th>\n",
       "      <th>close_to_adj_close_ratio</th>\n",
       "    </tr>\n",
       "  </thead>\n",
       "  <tbody>\n",
       "    <tr>\n",
       "      <th>8390</th>\n",
       "      <td>Apple Inc</td>\n",
       "      <td>NASDAQ</td>\n",
       "      <td>AAPL</td>\n",
       "      <td>2023-08-08</td>\n",
       "      <td>179.69</td>\n",
       "      <td>180.27</td>\n",
       "      <td>177.58</td>\n",
       "      <td>179.80</td>\n",
       "      <td>67823000.0</td>\n",
       "      <td>1.0</td>\n",
       "    </tr>\n",
       "    <tr>\n",
       "      <th>8391</th>\n",
       "      <td>Apple Inc</td>\n",
       "      <td>NASDAQ</td>\n",
       "      <td>AAPL</td>\n",
       "      <td>2023-08-09</td>\n",
       "      <td>180.87</td>\n",
       "      <td>180.93</td>\n",
       "      <td>177.01</td>\n",
       "      <td>178.19</td>\n",
       "      <td>56570198.0</td>\n",
       "      <td>1.0</td>\n",
       "    </tr>\n",
       "  </tbody>\n",
       "</table>\n",
       "</div>"
      ],
      "text/plain": [
       "     company_Name Exchange Ticker        Date  Adjusted_Open  Adjusted_High  \\\n",
       "8390    Apple Inc   NASDAQ   AAPL  2023-08-08         179.69         180.27   \n",
       "8391    Apple Inc   NASDAQ   AAPL  2023-08-09         180.87         180.93   \n",
       "\n",
       "      Adjusted_Low  Adjusted_close  Adjusted_Volume  close_to_adj_close_ratio  \n",
       "8390        177.58          179.80       67823000.0                       1.0  \n",
       "8391        177.01          178.19       56570198.0                       1.0  "
      ]
     },
     "execution_count": 18,
     "metadata": {},
     "output_type": "execute_result"
    }
   ],
   "source": [
    "print(\"SPLIT_DATE: \", SPLIT_DATE)\n",
    "# Adjust for Splits \n",
    "\n",
    "stocks_daily_ohlcv['close_to_adj_close_ratio'] = (stocks_daily_ohlcv['Close'] / stocks_daily_ohlcv['Adjusted_close']) #.astype(int) \n",
    "\n",
    "stocks_daily_ohlcv['Adjusted_Open'] = np.where(stocks_daily_ohlcv['close_to_adj_close_ratio'] == 1, \n",
    "                                          stocks_daily_ohlcv['Open'],\n",
    "                                          stocks_daily_ohlcv['Open'] / stocks_daily_ohlcv['close_to_adj_close_ratio'])\n",
    "\n",
    "stocks_daily_ohlcv['Adjusted_High'] = np.where(stocks_daily_ohlcv['close_to_adj_close_ratio'] == 1, \n",
    "                                          stocks_daily_ohlcv['High'],\n",
    "                                          stocks_daily_ohlcv['High'] / stocks_daily_ohlcv['close_to_adj_close_ratio'])\n",
    "\n",
    "stocks_daily_ohlcv['Adjusted_Low'] = np.where(stocks_daily_ohlcv['close_to_adj_close_ratio'] == 1, \n",
    "                                          stocks_daily_ohlcv['Low'],\n",
    "                                          stocks_daily_ohlcv['Low'] / stocks_daily_ohlcv['close_to_adj_close_ratio'])\n",
    "\n",
    "stocks_daily_ohlcv['Adjusted_Volume'] = np.where(stocks_daily_ohlcv['close_to_adj_close_ratio'] == 1, \n",
    "                                          stocks_daily_ohlcv['Volume'],\n",
    "                                          stocks_daily_ohlcv['Volume'] * stocks_daily_ohlcv['close_to_adj_close_ratio'])\n",
    "\n",
    "stocks_daily_ohlcv = stocks_daily_ohlcv[['company_Name','Exchange','Ticker', 'Date', 'Adjusted_Open', 'Adjusted_High', 'Adjusted_Low', \n",
    "                                         'Adjusted_close', 'Adjusted_Volume', 'close_to_adj_close_ratio']] \n",
    "print(stocks_daily_ohlcv.shape)\n",
    "stocks_daily_ohlcv[stocks_daily_ohlcv[\"Ticker\"]==\"AAPL\"].tail(2) "
   ]
  },
  {
   "cell_type": "code",
   "execution_count": 19,
   "metadata": {},
   "outputs": [],
   "source": [
    "stocks_daily_ohlcv = stocks_daily_ohlcv[stocks_daily_ohlcv['Ticker']!='GFN'].reset_index(drop=True)"
   ]
  },
  {
   "cell_type": "code",
   "execution_count": 20,
   "metadata": {},
   "outputs": [
    {
     "data": {
      "text/plain": [
       "6479"
      ]
     },
     "execution_count": 20,
     "metadata": {},
     "output_type": "execute_result"
    }
   ],
   "source": [
    "stocks_daily_ohlcv['Ticker'].nunique() "
   ]
  },
  {
   "cell_type": "code",
   "execution_count": 21,
   "metadata": {},
   "outputs": [
    {
     "data": {
      "text/html": [
       "<div>\n",
       "<style scoped>\n",
       "    .dataframe tbody tr th:only-of-type {\n",
       "        vertical-align: middle;\n",
       "    }\n",
       "\n",
       "    .dataframe tbody tr th {\n",
       "        vertical-align: top;\n",
       "    }\n",
       "\n",
       "    .dataframe thead th {\n",
       "        text-align: right;\n",
       "    }\n",
       "</style>\n",
       "<table border=\"1\" class=\"dataframe\">\n",
       "  <thead>\n",
       "    <tr style=\"text-align: right;\">\n",
       "      <th></th>\n",
       "      <th>company_Name</th>\n",
       "      <th>Exchange</th>\n",
       "      <th>Ticker</th>\n",
       "      <th>Date</th>\n",
       "      <th>Adjusted_Open</th>\n",
       "      <th>Adjusted_High</th>\n",
       "      <th>Adjusted_Low</th>\n",
       "      <th>Adjusted_close</th>\n",
       "      <th>Adjusted_Volume</th>\n",
       "      <th>close_to_adj_close_ratio</th>\n",
       "    </tr>\n",
       "  </thead>\n",
       "  <tbody>\n",
       "    <tr>\n",
       "      <th>0</th>\n",
       "      <td>Agilent Technologies Inc</td>\n",
       "      <td>NYSE</td>\n",
       "      <td>A</td>\n",
       "      <td>2021-05-03</td>\n",
       "      <td>132.428653</td>\n",
       "      <td>132.448277</td>\n",
       "      <td>130.771939</td>\n",
       "      <td>131.3439</td>\n",
       "      <td>1.046527e+06</td>\n",
       "      <td>1.014055</td>\n",
       "    </tr>\n",
       "    <tr>\n",
       "      <th>1</th>\n",
       "      <td>Agilent Technologies Inc</td>\n",
       "      <td>NYSE</td>\n",
       "      <td>A</td>\n",
       "      <td>2021-05-04</td>\n",
       "      <td>130.288690</td>\n",
       "      <td>130.673284</td>\n",
       "      <td>128.543224</td>\n",
       "      <td>129.0856</td>\n",
       "      <td>1.777060e+06</td>\n",
       "      <td>1.014056</td>\n",
       "    </tr>\n",
       "  </tbody>\n",
       "</table>\n",
       "</div>"
      ],
      "text/plain": [
       "               company_Name Exchange Ticker        Date  Adjusted_Open  \\\n",
       "0  Agilent Technologies Inc     NYSE      A  2021-05-03     132.428653   \n",
       "1  Agilent Technologies Inc     NYSE      A  2021-05-04     130.288690   \n",
       "\n",
       "   Adjusted_High  Adjusted_Low  Adjusted_close  Adjusted_Volume  \\\n",
       "0     132.448277    130.771939        131.3439     1.046527e+06   \n",
       "1     130.673284    128.543224        129.0856     1.777060e+06   \n",
       "\n",
       "   close_to_adj_close_ratio  \n",
       "0                  1.014055  \n",
       "1                  1.014056  "
      ]
     },
     "execution_count": 21,
     "metadata": {},
     "output_type": "execute_result"
    }
   ],
   "source": [
    "stocks_daily_ohlcv.head(2) "
   ]
  },
  {
   "cell_type": "code",
   "execution_count": 22,
   "metadata": {},
   "outputs": [
    {
     "name": "stdout",
     "output_type": "stream",
     "text": [
      "(6479, 10)\n"
     ]
    },
    {
     "data": {
      "text/html": [
       "<div>\n",
       "<style scoped>\n",
       "    .dataframe tbody tr th:only-of-type {\n",
       "        vertical-align: middle;\n",
       "    }\n",
       "\n",
       "    .dataframe tbody tr th {\n",
       "        vertical-align: top;\n",
       "    }\n",
       "\n",
       "    .dataframe thead th {\n",
       "        text-align: right;\n",
       "    }\n",
       "</style>\n",
       "<table border=\"1\" class=\"dataframe\">\n",
       "  <thead>\n",
       "    <tr style=\"text-align: right;\">\n",
       "      <th></th>\n",
       "      <th>company_Name</th>\n",
       "      <th>Exchange</th>\n",
       "      <th>Ticker</th>\n",
       "      <th>Date</th>\n",
       "      <th>Adjusted_Open</th>\n",
       "      <th>Adjusted_High</th>\n",
       "      <th>Adjusted_Low</th>\n",
       "      <th>Adjusted_close</th>\n",
       "      <th>Adjusted_Volume</th>\n",
       "      <th>close_to_adj_close_ratio</th>\n",
       "    </tr>\n",
       "  </thead>\n",
       "  <tbody>\n",
       "    <tr>\n",
       "      <th>6477</th>\n",
       "      <td>Zynerba Pharmaceuticals Inc</td>\n",
       "      <td>NASDAQ</td>\n",
       "      <td>ZYNE</td>\n",
       "      <td>2023-08-09</td>\n",
       "      <td>0.359</td>\n",
       "      <td>0.36</td>\n",
       "      <td>0.3338</td>\n",
       "      <td>0.3338</td>\n",
       "      <td>83192.0</td>\n",
       "      <td>1.0</td>\n",
       "    </tr>\n",
       "    <tr>\n",
       "      <th>6478</th>\n",
       "      <td>Zynex Inc</td>\n",
       "      <td>NASDAQ</td>\n",
       "      <td>ZYXI</td>\n",
       "      <td>2023-08-09</td>\n",
       "      <td>7.780</td>\n",
       "      <td>8.09</td>\n",
       "      <td>7.6300</td>\n",
       "      <td>7.6900</td>\n",
       "      <td>267016.0</td>\n",
       "      <td>1.0</td>\n",
       "    </tr>\n",
       "  </tbody>\n",
       "</table>\n",
       "</div>"
      ],
      "text/plain": [
       "                     company_Name Exchange Ticker        Date  Adjusted_Open  \\\n",
       "6477  Zynerba Pharmaceuticals Inc   NASDAQ   ZYNE  2023-08-09          0.359   \n",
       "6478                    Zynex Inc   NASDAQ   ZYXI  2023-08-09          7.780   \n",
       "\n",
       "      Adjusted_High  Adjusted_Low  Adjusted_close  Adjusted_Volume  \\\n",
       "6477           0.36        0.3338          0.3338          83192.0   \n",
       "6478           8.09        7.6300          7.6900         267016.0   \n",
       "\n",
       "      close_to_adj_close_ratio  \n",
       "6477                       1.0  \n",
       "6478                       1.0  "
      ]
     },
     "execution_count": 22,
     "metadata": {},
     "output_type": "execute_result"
    }
   ],
   "source": [
    "todays_price = stocks_daily_ohlcv[stocks_daily_ohlcv['Date']==SPLIT_DATE].reset_index(drop=True)\n",
    "print(todays_price.shape)\n",
    "todays_price.tail(2)"
   ]
  },
  {
   "cell_type": "code",
   "execution_count": 23,
   "metadata": {},
   "outputs": [
    {
     "name": "stdout",
     "output_type": "stream",
     "text": [
      "(6479, 10)\n"
     ]
    },
    {
     "data": {
      "text/html": [
       "<div>\n",
       "<style scoped>\n",
       "    .dataframe tbody tr th:only-of-type {\n",
       "        vertical-align: middle;\n",
       "    }\n",
       "\n",
       "    .dataframe tbody tr th {\n",
       "        vertical-align: top;\n",
       "    }\n",
       "\n",
       "    .dataframe thead th {\n",
       "        text-align: right;\n",
       "    }\n",
       "</style>\n",
       "<table border=\"1\" class=\"dataframe\">\n",
       "  <thead>\n",
       "    <tr style=\"text-align: right;\">\n",
       "      <th></th>\n",
       "      <th>company_Name</th>\n",
       "      <th>Exchange</th>\n",
       "      <th>Ticker</th>\n",
       "      <th>Date</th>\n",
       "      <th>Adjusted_Open</th>\n",
       "      <th>Adjusted_High</th>\n",
       "      <th>Adjusted_Low</th>\n",
       "      <th>Adjusted_close</th>\n",
       "      <th>Adjusted_Volume</th>\n",
       "      <th>close_to_adj_close_ratio</th>\n",
       "    </tr>\n",
       "  </thead>\n",
       "  <tbody>\n",
       "    <tr>\n",
       "      <th>6477</th>\n",
       "      <td>Zynerba Pharmaceuticals Inc</td>\n",
       "      <td>NASDAQ</td>\n",
       "      <td>ZYNE</td>\n",
       "      <td>2023-08-09</td>\n",
       "      <td>0.359</td>\n",
       "      <td>0.36</td>\n",
       "      <td>0.3338</td>\n",
       "      <td>0.3338</td>\n",
       "      <td>83192.0</td>\n",
       "      <td>1.0</td>\n",
       "    </tr>\n",
       "    <tr>\n",
       "      <th>6478</th>\n",
       "      <td>Zynex Inc</td>\n",
       "      <td>NASDAQ</td>\n",
       "      <td>ZYXI</td>\n",
       "      <td>2023-08-09</td>\n",
       "      <td>7.780</td>\n",
       "      <td>8.09</td>\n",
       "      <td>7.6300</td>\n",
       "      <td>7.6900</td>\n",
       "      <td>267016.0</td>\n",
       "      <td>1.0</td>\n",
       "    </tr>\n",
       "  </tbody>\n",
       "</table>\n",
       "</div>"
      ],
      "text/plain": [
       "                     company_Name Exchange Ticker        Date  Adjusted_Open  \\\n",
       "6477  Zynerba Pharmaceuticals Inc   NASDAQ   ZYNE  2023-08-09          0.359   \n",
       "6478                    Zynex Inc   NASDAQ   ZYXI  2023-08-09          7.780   \n",
       "\n",
       "      Adjusted_High  Adjusted_Low  Adjusted_close  Adjusted_Volume  \\\n",
       "6477           0.36        0.3338          0.3338          83192.0   \n",
       "6478           8.09        7.6300          7.6900         267016.0   \n",
       "\n",
       "      close_to_adj_close_ratio  \n",
       "6477                       1.0  \n",
       "6478                       1.0  "
      ]
     },
     "execution_count": 23,
     "metadata": {},
     "output_type": "execute_result"
    }
   ],
   "source": [
    "print(todays_price.shape) \n",
    "todays_price.tail(2) "
   ]
  },
  {
   "cell_type": "code",
   "execution_count": 24,
   "metadata": {},
   "outputs": [
    {
     "data": {
      "text/plain": [
       "NASDAQ       3941\n",
       "NYSE         2227\n",
       "NYSE MKT      262\n",
       "NYSE ARCA      49\n",
       "Name: Exchange, dtype: int64"
      ]
     },
     "execution_count": 24,
     "metadata": {},
     "output_type": "execute_result"
    }
   ],
   "source": [
    "todays_price['Exchange'].value_counts()"
   ]
  },
  {
   "cell_type": "code",
   "execution_count": 31,
   "metadata": {
    "collapsed": true,
    "jupyter": {
     "outputs_hidden": true
    },
    "tags": []
   },
   "outputs": [
    {
     "data": {
      "text/plain": [
       "['2023-07-13',\n",
       " '2023-07-14',\n",
       " '2023-07-17',\n",
       " '2023-07-18',\n",
       " '2023-07-19',\n",
       " '2023-07-20',\n",
       " '2023-07-21',\n",
       " '2023-07-24',\n",
       " '2023-07-25',\n",
       " '2023-07-26',\n",
       " '2023-07-27',\n",
       " '2023-07-28',\n",
       " '2023-07-31',\n",
       " '2023-08-01',\n",
       " '2023-08-02',\n",
       " '2023-08-03',\n",
       " '2023-08-04',\n",
       " '2023-08-07',\n",
       " '2023-08-08',\n",
       " '2023-08-09']"
      ]
     },
     "execution_count": 31,
     "metadata": {},
     "output_type": "execute_result"
    }
   ],
   "source": [
    "N_days = 20\n",
    "unique_dates_list = [x for x in stocks_daily_ohlcv['Date'].unique()]\n",
    "split_date_index = unique_dates_list.index(SPLIT_DATE)\n",
    "N_days_dates = unique_dates_list[split_date_index-(N_days-1):split_date_index+1]\n",
    "N_days_dates "
   ]
  },
  {
   "cell_type": "code",
   "execution_count": 32,
   "metadata": {},
   "outputs": [
    {
     "data": {
      "text/plain": [
       "array(['A', 'AA', 'AAC', 'AACG', 'AACIW'], dtype=object)"
      ]
     },
     "execution_count": 32,
     "metadata": {},
     "output_type": "execute_result"
    }
   ],
   "source": [
    "stocks_daily_ohlcv['Ticker'].unique()[0:5]"
   ]
  },
  {
   "cell_type": "code",
   "execution_count": 33,
   "metadata": {},
   "outputs": [
    {
     "data": {
      "text/plain": [
       "6479"
      ]
     },
     "execution_count": 33,
     "metadata": {},
     "output_type": "execute_result"
    }
   ],
   "source": [
    "eligible_tickers = stocks_daily_ohlcv[\"Ticker\"][(stocks_daily_ohlcv['Date'].apply(lambda x: x in N_days_dates)) \n",
    "                                               ].unique()\n",
    "len(eligible_tickers) "
   ]
  },
  {
   "cell_type": "code",
   "execution_count": 34,
   "metadata": {},
   "outputs": [
    {
     "data": {
      "text/html": [
       "<div>\n",
       "<style scoped>\n",
       "    .dataframe tbody tr th:only-of-type {\n",
       "        vertical-align: middle;\n",
       "    }\n",
       "\n",
       "    .dataframe tbody tr th {\n",
       "        vertical-align: top;\n",
       "    }\n",
       "\n",
       "    .dataframe thead th {\n",
       "        text-align: right;\n",
       "    }\n",
       "</style>\n",
       "<table border=\"1\" class=\"dataframe\">\n",
       "  <thead>\n",
       "    <tr style=\"text-align: right;\">\n",
       "      <th></th>\n",
       "      <th>company_Name</th>\n",
       "      <th>Exchange</th>\n",
       "      <th>Ticker</th>\n",
       "      <th>Date</th>\n",
       "      <th>Adjusted_Open</th>\n",
       "      <th>Adjusted_High</th>\n",
       "      <th>Adjusted_Low</th>\n",
       "      <th>Adjusted_close</th>\n",
       "      <th>Adjusted_Volume</th>\n",
       "      <th>close_to_adj_close_ratio</th>\n",
       "      <th>day_price</th>\n",
       "    </tr>\n",
       "  </thead>\n",
       "  <tbody>\n",
       "    <tr>\n",
       "      <th>0</th>\n",
       "      <td>Agilent Technologies Inc</td>\n",
       "      <td>NYSE</td>\n",
       "      <td>A</td>\n",
       "      <td>2021-05-03</td>\n",
       "      <td>132.428653</td>\n",
       "      <td>132.448277</td>\n",
       "      <td>130.771939</td>\n",
       "      <td>131.3439</td>\n",
       "      <td>1.046527e+06</td>\n",
       "      <td>1.014055</td>\n",
       "      <td>131.505617</td>\n",
       "    </tr>\n",
       "    <tr>\n",
       "      <th>1</th>\n",
       "      <td>Agilent Technologies Inc</td>\n",
       "      <td>NYSE</td>\n",
       "      <td>A</td>\n",
       "      <td>2021-05-04</td>\n",
       "      <td>130.288690</td>\n",
       "      <td>130.673284</td>\n",
       "      <td>128.543224</td>\n",
       "      <td>129.0856</td>\n",
       "      <td>1.777060e+06</td>\n",
       "      <td>1.014056</td>\n",
       "      <td>129.310440</td>\n",
       "    </tr>\n",
       "  </tbody>\n",
       "</table>\n",
       "</div>"
      ],
      "text/plain": [
       "               company_Name Exchange Ticker        Date  Adjusted_Open  \\\n",
       "0  Agilent Technologies Inc     NYSE      A  2021-05-03     132.428653   \n",
       "1  Agilent Technologies Inc     NYSE      A  2021-05-04     130.288690   \n",
       "\n",
       "   Adjusted_High  Adjusted_Low  Adjusted_close  Adjusted_Volume  \\\n",
       "0     132.448277    130.771939        131.3439     1.046527e+06   \n",
       "1     130.673284    128.543224        129.0856     1.777060e+06   \n",
       "\n",
       "   close_to_adj_close_ratio   day_price  \n",
       "0                  1.014055  131.505617  \n",
       "1                  1.014056  129.310440  "
      ]
     },
     "execution_count": 34,
     "metadata": {},
     "output_type": "execute_result"
    }
   ],
   "source": [
    "stocks_daily_ohlcv['day_price'] = ( (0.1 * stocks_daily_ohlcv['Adjusted_Open']) + \n",
    "                                    (0.1 * stocks_daily_ohlcv['Adjusted_High']) + \n",
    "                                    (0.1 * stocks_daily_ohlcv['Adjusted_Low']) + \n",
    "                                    (0.7 * stocks_daily_ohlcv['Adjusted_close']) )\n",
    "\n",
    "stocks_daily_ohlcv.head(2) "
   ]
  },
  {
   "cell_type": "code",
   "execution_count": 35,
   "metadata": {},
   "outputs": [
    {
     "data": {
      "text/html": [
       "<div>\n",
       "<style scoped>\n",
       "    .dataframe tbody tr th:only-of-type {\n",
       "        vertical-align: middle;\n",
       "    }\n",
       "\n",
       "    .dataframe tbody tr th {\n",
       "        vertical-align: top;\n",
       "    }\n",
       "\n",
       "    .dataframe thead th {\n",
       "        text-align: right;\n",
       "    }\n",
       "</style>\n",
       "<table border=\"1\" class=\"dataframe\">\n",
       "  <thead>\n",
       "    <tr style=\"text-align: right;\">\n",
       "      <th></th>\n",
       "      <th>company_Name</th>\n",
       "      <th>Exchange</th>\n",
       "      <th>Ticker</th>\n",
       "      <th>Date</th>\n",
       "      <th>Adjusted_Open</th>\n",
       "      <th>Adjusted_High</th>\n",
       "      <th>Adjusted_Low</th>\n",
       "      <th>Adjusted_close</th>\n",
       "      <th>Adjusted_Volume</th>\n",
       "      <th>close_to_adj_close_ratio</th>\n",
       "      <th>day_price</th>\n",
       "    </tr>\n",
       "  </thead>\n",
       "  <tbody>\n",
       "    <tr>\n",
       "      <th>3388748</th>\n",
       "      <td>Zynex Inc</td>\n",
       "      <td>NASDAQ</td>\n",
       "      <td>ZYXI</td>\n",
       "      <td>2023-08-08</td>\n",
       "      <td>8.01</td>\n",
       "      <td>8.02</td>\n",
       "      <td>7.69</td>\n",
       "      <td>7.76</td>\n",
       "      <td>373000.0</td>\n",
       "      <td>1.0</td>\n",
       "      <td>7.804</td>\n",
       "    </tr>\n",
       "    <tr>\n",
       "      <th>3388749</th>\n",
       "      <td>Zynex Inc</td>\n",
       "      <td>NASDAQ</td>\n",
       "      <td>ZYXI</td>\n",
       "      <td>2023-08-09</td>\n",
       "      <td>7.78</td>\n",
       "      <td>8.09</td>\n",
       "      <td>7.63</td>\n",
       "      <td>7.69</td>\n",
       "      <td>267016.0</td>\n",
       "      <td>1.0</td>\n",
       "      <td>7.733</td>\n",
       "    </tr>\n",
       "  </tbody>\n",
       "</table>\n",
       "</div>"
      ],
      "text/plain": [
       "        company_Name Exchange Ticker        Date  Adjusted_Open  \\\n",
       "3388748    Zynex Inc   NASDAQ   ZYXI  2023-08-08           8.01   \n",
       "3388749    Zynex Inc   NASDAQ   ZYXI  2023-08-09           7.78   \n",
       "\n",
       "         Adjusted_High  Adjusted_Low  Adjusted_close  Adjusted_Volume  \\\n",
       "3388748           8.02          7.69            7.76         373000.0   \n",
       "3388749           8.09          7.63            7.69         267016.0   \n",
       "\n",
       "         close_to_adj_close_ratio  day_price  \n",
       "3388748                       1.0      7.804  \n",
       "3388749                       1.0      7.733  "
      ]
     },
     "execution_count": 35,
     "metadata": {},
     "output_type": "execute_result"
    }
   ],
   "source": [
    "stocks_daily_ohlcv.tail(2) "
   ]
  },
  {
   "cell_type": "code",
   "execution_count": 36,
   "metadata": {},
   "outputs": [
    {
     "name": "stdout",
     "output_type": "stream",
     "text": [
      "ticker_with_vol_criteria: 1542\n",
      "ticker_with_price_criteria: 1463\n"
     ]
    },
    {
     "data": {
      "text/plain": [
       "1427"
      ]
     },
     "execution_count": 36,
     "metadata": {},
     "output_type": "execute_result"
    }
   ],
   "source": [
    "stocks_daily_ohlcv['Vol_price'] = stocks_daily_ohlcv['day_price'] * stocks_daily_ohlcv['Adjusted_Volume'] \n",
    "\n",
    "stocks_daily_ohlcv[f'Adjusted_Volume_1d'] = stocks_daily_ohlcv.groupby(\"Ticker\")['Adjusted_Volume'].shift(1)\n",
    "stocks_daily_ohlcv[f'Adj_Vol_EMA_prev_20d'] = stocks_daily_ohlcv['Adjusted_Volume_1d'].rolling(20).mean().round(decimals=3)\n",
    "\n",
    "def get_last_N_days(df, N_days):\n",
    "    unique_dates_list = [x for x in df['Date'].unique()]\n",
    "    split_date_index = unique_dates_list.index(SPLIT_DATE)\n",
    "    N_days_dates = unique_dates_list[split_date_index-(N_days-1):split_date_index+1]\n",
    "    return N_days_dates \n",
    "\n",
    "stocks_daily_ohlcv = hfs.get_QM_ADR(stocks_daily_ohlcv, window_size = 5 ,high_col = \"Adjusted_High\", low_col = \"Adjusted_Low\", close_col = \"Adjusted_close\")\n",
    "stocks_daily_ohlcv = hfs.get_QM_ADR(stocks_daily_ohlcv, window_size = 20 ,high_col = \"Adjusted_High\", low_col = \"Adjusted_Low\", close_col = \"Adjusted_close\")\n",
    "\n",
    "ticker_with_vol_criteria = stocks_daily_ohlcv[ (stocks_daily_ohlcv['Date'].isin( get_last_N_days(stocks_daily_ohlcv,550)) ) &\n",
    "                                               (stocks_daily_ohlcv['Adj_Vol_EMA_prev_20d'] > 150000 ) & \n",
    "                                               (stocks_daily_ohlcv['Vol_price'] >= 25000000 ) &\n",
    "                                               (stocks_daily_ohlcv['Adjusted_Volume'] >= 15000000 ) ]['Ticker'].unique()\n",
    "\n",
    "print(f'ticker_with_vol_criteria: {len(ticker_with_vol_criteria)}')\n",
    "\n",
    "stocks_daily_ohlcv_with_Vol = stocks_daily_ohlcv[stocks_daily_ohlcv['Ticker'].isin(ticker_with_vol_criteria)\n",
    "                                                         ].reset_index(drop=True)\n",
    "\n",
    "ticker_with_price_criteria = stocks_daily_ohlcv_with_Vol[ \n",
    "                            (stocks_daily_ohlcv_with_Vol['Date'].isin(get_last_N_days(stocks_daily_ohlcv_with_Vol,550))) &\n",
    "                            (stocks_daily_ohlcv_with_Vol['Adjusted_close'] > 0.9 ) & \n",
    "                            (stocks_daily_ohlcv_with_Vol['Adjusted_close'] <= 70) \n",
    "                          ]['Ticker'].unique()\n",
    "\n",
    "print(f'ticker_with_price_criteria: {len(ticker_with_price_criteria)}')\n",
    "\n",
    "stocks_daily_ohlcv_with_VolPrice = stocks_daily_ohlcv_with_Vol[stocks_daily_ohlcv_with_Vol['Ticker'].isin(ticker_with_price_criteria)\n",
    "                                                         ].reset_index(drop=True)\n",
    "\n",
    "eligible_tickers = stocks_daily_ohlcv_with_VolPrice[\n",
    "                 (stocks_daily_ohlcv_with_VolPrice['Date'].isin(get_last_N_days(stocks_daily_ohlcv_with_VolPrice,550))) &\n",
    "                 (stocks_daily_ohlcv_with_VolPrice['ADR_percent_20d'] > 3 ) &\n",
    "                 ( stocks_daily_ohlcv_with_VolPrice['Adjusted_Volume'] >= 1000000 )  \n",
    "\n",
    "             ][\"Ticker\"].unique()\n",
    "\n",
    "len(eligible_tickers) "
   ]
  },
  {
   "cell_type": "code",
   "execution_count": 37,
   "metadata": {},
   "outputs": [
    {
     "name": "stdout",
     "output_type": "stream",
     "text": [
      "1432\n",
      "(778676, 16)\n"
     ]
    },
    {
     "data": {
      "text/html": [
       "<div>\n",
       "<style scoped>\n",
       "    .dataframe tbody tr th:only-of-type {\n",
       "        vertical-align: middle;\n",
       "    }\n",
       "\n",
       "    .dataframe tbody tr th {\n",
       "        vertical-align: top;\n",
       "    }\n",
       "\n",
       "    .dataframe thead th {\n",
       "        text-align: right;\n",
       "    }\n",
       "</style>\n",
       "<table border=\"1\" class=\"dataframe\">\n",
       "  <thead>\n",
       "    <tr style=\"text-align: right;\">\n",
       "      <th></th>\n",
       "      <th>company_Name</th>\n",
       "      <th>Exchange</th>\n",
       "      <th>Ticker</th>\n",
       "      <th>Date</th>\n",
       "      <th>Adjusted_Open</th>\n",
       "      <th>Adjusted_High</th>\n",
       "      <th>Adjusted_Low</th>\n",
       "      <th>Adjusted_close</th>\n",
       "      <th>Adjusted_Volume</th>\n",
       "      <th>close_to_adj_close_ratio</th>\n",
       "      <th>day_price</th>\n",
       "      <th>Vol_price</th>\n",
       "      <th>Adjusted_Volume_1d</th>\n",
       "      <th>Adj_Vol_EMA_prev_20d</th>\n",
       "      <th>ADR_percent_5d</th>\n",
       "      <th>ADR_percent_20d</th>\n",
       "    </tr>\n",
       "  </thead>\n",
       "  <tbody>\n",
       "    <tr>\n",
       "      <th>778674</th>\n",
       "      <td>Zymeworks Inc. Common Stock</td>\n",
       "      <td>NASDAQ</td>\n",
       "      <td>ZYME</td>\n",
       "      <td>2023-08-08</td>\n",
       "      <td>7.23</td>\n",
       "      <td>7.460</td>\n",
       "      <td>7.17</td>\n",
       "      <td>7.29</td>\n",
       "      <td>394500.0</td>\n",
       "      <td>1.0</td>\n",
       "      <td>7.289</td>\n",
       "      <td>2875510.50</td>\n",
       "      <td>430800.0</td>\n",
       "      <td>627680.0</td>\n",
       "      <td>4.615</td>\n",
       "      <td>4.137</td>\n",
       "    </tr>\n",
       "    <tr>\n",
       "      <th>778675</th>\n",
       "      <td>Zymeworks Inc. Common Stock</td>\n",
       "      <td>NASDAQ</td>\n",
       "      <td>ZYME</td>\n",
       "      <td>2023-08-09</td>\n",
       "      <td>7.29</td>\n",
       "      <td>7.725</td>\n",
       "      <td>7.29</td>\n",
       "      <td>7.70</td>\n",
       "      <td>514001.0</td>\n",
       "      <td>1.0</td>\n",
       "      <td>7.620</td>\n",
       "      <td>3916944.62</td>\n",
       "      <td>394500.0</td>\n",
       "      <td>615825.0</td>\n",
       "      <td>4.804</td>\n",
       "      <td>4.232</td>\n",
       "    </tr>\n",
       "  </tbody>\n",
       "</table>\n",
       "</div>"
      ],
      "text/plain": [
       "                       company_Name Exchange Ticker        Date  \\\n",
       "778674  Zymeworks Inc. Common Stock   NASDAQ   ZYME  2023-08-08   \n",
       "778675  Zymeworks Inc. Common Stock   NASDAQ   ZYME  2023-08-09   \n",
       "\n",
       "        Adjusted_Open  Adjusted_High  Adjusted_Low  Adjusted_close  \\\n",
       "778674           7.23          7.460          7.17            7.29   \n",
       "778675           7.29          7.725          7.29            7.70   \n",
       "\n",
       "        Adjusted_Volume  close_to_adj_close_ratio  day_price   Vol_price  \\\n",
       "778674         394500.0                       1.0      7.289  2875510.50   \n",
       "778675         514001.0                       1.0      7.620  3916944.62   \n",
       "\n",
       "        Adjusted_Volume_1d  Adj_Vol_EMA_prev_20d  ADR_percent_5d  \\\n",
       "778674            430800.0              627680.0           4.615   \n",
       "778675            394500.0              615825.0           4.804   \n",
       "\n",
       "        ADR_percent_20d  \n",
       "778674            4.137  \n",
       "778675            4.232  "
      ]
     },
     "execution_count": 37,
     "metadata": {},
     "output_type": "execute_result"
    }
   ],
   "source": [
    "eligible_tickers = [x for x in eligible_tickers] + current_portfolio + recent_imp_tickers\n",
    "eligible_tickers = list(set(eligible_tickers))\n",
    "print(len(eligible_tickers)) \n",
    "stocks_daily_ohlcv_eligible = stocks_daily_ohlcv[stocks_daily_ohlcv['Ticker'].isin(eligible_tickers)].reset_index(drop=True)\n",
    "print(stocks_daily_ohlcv_eligible.shape) \n",
    "stocks_daily_ohlcv_eligible.tail(2) "
   ]
  },
  {
   "cell_type": "code",
   "execution_count": 38,
   "metadata": {},
   "outputs": [
    {
     "name": "stdout",
     "output_type": "stream",
     "text": [
      "(778676, 16)\n"
     ]
    },
    {
     "data": {
      "text/html": [
       "<div>\n",
       "<style scoped>\n",
       "    .dataframe tbody tr th:only-of-type {\n",
       "        vertical-align: middle;\n",
       "    }\n",
       "\n",
       "    .dataframe tbody tr th {\n",
       "        vertical-align: top;\n",
       "    }\n",
       "\n",
       "    .dataframe thead th {\n",
       "        text-align: right;\n",
       "    }\n",
       "</style>\n",
       "<table border=\"1\" class=\"dataframe\">\n",
       "  <thead>\n",
       "    <tr style=\"text-align: right;\">\n",
       "      <th></th>\n",
       "      <th>company_Name</th>\n",
       "      <th>Exchange</th>\n",
       "      <th>Ticker</th>\n",
       "      <th>Date</th>\n",
       "      <th>Adjusted_Open</th>\n",
       "      <th>Adjusted_High</th>\n",
       "      <th>Adjusted_Low</th>\n",
       "      <th>Adjusted_close</th>\n",
       "      <th>Adjusted_Volume</th>\n",
       "      <th>close_to_adj_close_ratio</th>\n",
       "      <th>day_price</th>\n",
       "      <th>Vol_price</th>\n",
       "      <th>Adjusted_Volume_1d</th>\n",
       "      <th>Adj_Vol_EMA_prev_20d</th>\n",
       "      <th>ADR_percent_5d</th>\n",
       "      <th>ADR_percent_20d</th>\n",
       "    </tr>\n",
       "  </thead>\n",
       "  <tbody>\n",
       "    <tr>\n",
       "      <th>778674</th>\n",
       "      <td>Zymeworks Inc. Common Stock</td>\n",
       "      <td>NASDAQ</td>\n",
       "      <td>ZYME</td>\n",
       "      <td>2023-08-08</td>\n",
       "      <td>7.23</td>\n",
       "      <td>7.460</td>\n",
       "      <td>7.17</td>\n",
       "      <td>7.29</td>\n",
       "      <td>394500.0</td>\n",
       "      <td>1.0</td>\n",
       "      <td>7.289</td>\n",
       "      <td>2875510.50</td>\n",
       "      <td>430800.0</td>\n",
       "      <td>627680.0</td>\n",
       "      <td>4.615</td>\n",
       "      <td>4.137</td>\n",
       "    </tr>\n",
       "    <tr>\n",
       "      <th>778675</th>\n",
       "      <td>Zymeworks Inc. Common Stock</td>\n",
       "      <td>NASDAQ</td>\n",
       "      <td>ZYME</td>\n",
       "      <td>2023-08-09</td>\n",
       "      <td>7.29</td>\n",
       "      <td>7.725</td>\n",
       "      <td>7.29</td>\n",
       "      <td>7.70</td>\n",
       "      <td>514001.0</td>\n",
       "      <td>1.0</td>\n",
       "      <td>7.620</td>\n",
       "      <td>3916944.62</td>\n",
       "      <td>394500.0</td>\n",
       "      <td>615825.0</td>\n",
       "      <td>4.804</td>\n",
       "      <td>4.232</td>\n",
       "    </tr>\n",
       "  </tbody>\n",
       "</table>\n",
       "</div>"
      ],
      "text/plain": [
       "                       company_Name Exchange Ticker        Date  \\\n",
       "778674  Zymeworks Inc. Common Stock   NASDAQ   ZYME  2023-08-08   \n",
       "778675  Zymeworks Inc. Common Stock   NASDAQ   ZYME  2023-08-09   \n",
       "\n",
       "        Adjusted_Open  Adjusted_High  Adjusted_Low  Adjusted_close  \\\n",
       "778674           7.23          7.460          7.17            7.29   \n",
       "778675           7.29          7.725          7.29            7.70   \n",
       "\n",
       "        Adjusted_Volume  close_to_adj_close_ratio  day_price   Vol_price  \\\n",
       "778674         394500.0                       1.0      7.289  2875510.50   \n",
       "778675         514001.0                       1.0      7.620  3916944.62   \n",
       "\n",
       "        Adjusted_Volume_1d  Adj_Vol_EMA_prev_20d  ADR_percent_5d  \\\n",
       "778674            430800.0              627680.0           4.615   \n",
       "778675            394500.0              615825.0           4.804   \n",
       "\n",
       "        ADR_percent_20d  \n",
       "778674            4.137  \n",
       "778675            4.232  "
      ]
     },
     "execution_count": 38,
     "metadata": {},
     "output_type": "execute_result"
    }
   ],
   "source": [
    "stocks_daily_ohlcv_eligible = stocks_daily_ohlcv_eligible[ -( (stocks_daily_ohlcv_eligible['Adjusted_Open']==0) & \n",
    "                                                              (stocks_daily_ohlcv_eligible['Adjusted_High']==0) & \n",
    "                                                              (stocks_daily_ohlcv_eligible['Adjusted_Low']==0) & \n",
    "                                                              (stocks_daily_ohlcv_eligible['Adjusted_close']==0)) ].reset_index(drop=True)\n",
    "print(stocks_daily_ohlcv_eligible.shape)\n",
    "stocks_daily_ohlcv_eligible.tail(2) "
   ]
  },
  {
   "cell_type": "code",
   "execution_count": 39,
   "metadata": {},
   "outputs": [
    {
     "data": {
      "text/plain": [
       "1432"
      ]
     },
     "execution_count": 39,
     "metadata": {},
     "output_type": "execute_result"
    }
   ],
   "source": [
    "stocks_daily_ohlcv_eligible['Ticker'].nunique() "
   ]
  },
  {
   "cell_type": "code",
   "execution_count": 40,
   "metadata": {},
   "outputs": [
    {
     "name": "stdout",
     "output_type": "stream",
     "text": [
      "(1432, 2)\n",
      "(1341, 2)\n"
     ]
    },
    {
     "data": {
      "text/html": [
       "<div>\n",
       "<style scoped>\n",
       "    .dataframe tbody tr th:only-of-type {\n",
       "        vertical-align: middle;\n",
       "    }\n",
       "\n",
       "    .dataframe tbody tr th {\n",
       "        vertical-align: top;\n",
       "    }\n",
       "\n",
       "    .dataframe thead th {\n",
       "        text-align: right;\n",
       "    }\n",
       "</style>\n",
       "<table border=\"1\" class=\"dataframe\">\n",
       "  <thead>\n",
       "    <tr style=\"text-align: right;\">\n",
       "      <th></th>\n",
       "      <th>Ticker</th>\n",
       "      <th>periods</th>\n",
       "    </tr>\n",
       "  </thead>\n",
       "  <tbody>\n",
       "    <tr>\n",
       "      <th>1339</th>\n",
       "      <td>ZVZZT</td>\n",
       "      <td>570</td>\n",
       "    </tr>\n",
       "    <tr>\n",
       "      <th>1340</th>\n",
       "      <td>ZYME</td>\n",
       "      <td>572</td>\n",
       "    </tr>\n",
       "  </tbody>\n",
       "</table>\n",
       "</div>"
      ],
      "text/plain": [
       "     Ticker  periods\n",
       "1339  ZVZZT      570\n",
       "1340   ZYME      572"
      ]
     },
     "execution_count": 40,
     "metadata": {},
     "output_type": "execute_result"
    }
   ],
   "source": [
    "Tickers_with_eligible_lifetime = stocks_daily_ohlcv_eligible.groupby(['Ticker'])['Date'].size().reset_index(name='periods')\n",
    "print(Tickers_with_eligible_lifetime.shape)\n",
    "Tickers_with_eligible_lifetime = Tickers_with_eligible_lifetime[Tickers_with_eligible_lifetime['periods']>=390].reset_index(drop=True)\n",
    "print(Tickers_with_eligible_lifetime[Tickers_with_eligible_lifetime['periods']>=390].shape)\n",
    "Tickers_with_eligible_lifetime.tail(2) "
   ]
  },
  {
   "cell_type": "markdown",
   "metadata": {
    "tags": []
   },
   "source": [
    "# get all_stocks_ohlcv for ranking from here"
   ]
  },
  {
   "cell_type": "code",
   "execution_count": 41,
   "metadata": {},
   "outputs": [
    {
     "name": "stdout",
     "output_type": "stream",
     "text": [
      "(778676, 16)\n",
      "1341\n",
      "(756140, 16)\n"
     ]
    },
    {
     "data": {
      "text/html": [
       "<div>\n",
       "<style scoped>\n",
       "    .dataframe tbody tr th:only-of-type {\n",
       "        vertical-align: middle;\n",
       "    }\n",
       "\n",
       "    .dataframe tbody tr th {\n",
       "        vertical-align: top;\n",
       "    }\n",
       "\n",
       "    .dataframe thead th {\n",
       "        text-align: right;\n",
       "    }\n",
       "</style>\n",
       "<table border=\"1\" class=\"dataframe\">\n",
       "  <thead>\n",
       "    <tr style=\"text-align: right;\">\n",
       "      <th></th>\n",
       "      <th>company_Name</th>\n",
       "      <th>Exchange</th>\n",
       "      <th>Ticker</th>\n",
       "      <th>Date</th>\n",
       "      <th>Adjusted_Open</th>\n",
       "      <th>Adjusted_High</th>\n",
       "      <th>Adjusted_Low</th>\n",
       "      <th>Adjusted_close</th>\n",
       "      <th>Adjusted_Volume</th>\n",
       "      <th>close_to_adj_close_ratio</th>\n",
       "      <th>day_price</th>\n",
       "      <th>Vol_price</th>\n",
       "      <th>Adjusted_Volume_1d</th>\n",
       "      <th>Adj_Vol_EMA_prev_20d</th>\n",
       "      <th>ADR_percent_5d</th>\n",
       "      <th>ADR_percent_20d</th>\n",
       "    </tr>\n",
       "  </thead>\n",
       "  <tbody>\n",
       "    <tr>\n",
       "      <th>756138</th>\n",
       "      <td>Zymeworks Inc. Common Stock</td>\n",
       "      <td>NASDAQ</td>\n",
       "      <td>ZYME</td>\n",
       "      <td>2023-08-08</td>\n",
       "      <td>7.23</td>\n",
       "      <td>7.460</td>\n",
       "      <td>7.17</td>\n",
       "      <td>7.29</td>\n",
       "      <td>394500.0</td>\n",
       "      <td>1.0</td>\n",
       "      <td>7.289</td>\n",
       "      <td>2875510.50</td>\n",
       "      <td>430800.0</td>\n",
       "      <td>627680.0</td>\n",
       "      <td>4.615</td>\n",
       "      <td>4.137</td>\n",
       "    </tr>\n",
       "    <tr>\n",
       "      <th>756139</th>\n",
       "      <td>Zymeworks Inc. Common Stock</td>\n",
       "      <td>NASDAQ</td>\n",
       "      <td>ZYME</td>\n",
       "      <td>2023-08-09</td>\n",
       "      <td>7.29</td>\n",
       "      <td>7.725</td>\n",
       "      <td>7.29</td>\n",
       "      <td>7.70</td>\n",
       "      <td>514001.0</td>\n",
       "      <td>1.0</td>\n",
       "      <td>7.620</td>\n",
       "      <td>3916944.62</td>\n",
       "      <td>394500.0</td>\n",
       "      <td>615825.0</td>\n",
       "      <td>4.804</td>\n",
       "      <td>4.232</td>\n",
       "    </tr>\n",
       "  </tbody>\n",
       "</table>\n",
       "</div>"
      ],
      "text/plain": [
       "                       company_Name Exchange Ticker        Date  \\\n",
       "756138  Zymeworks Inc. Common Stock   NASDAQ   ZYME  2023-08-08   \n",
       "756139  Zymeworks Inc. Common Stock   NASDAQ   ZYME  2023-08-09   \n",
       "\n",
       "        Adjusted_Open  Adjusted_High  Adjusted_Low  Adjusted_close  \\\n",
       "756138           7.23          7.460          7.17            7.29   \n",
       "756139           7.29          7.725          7.29            7.70   \n",
       "\n",
       "        Adjusted_Volume  close_to_adj_close_ratio  day_price   Vol_price  \\\n",
       "756138         394500.0                       1.0      7.289  2875510.50   \n",
       "756139         514001.0                       1.0      7.620  3916944.62   \n",
       "\n",
       "        Adjusted_Volume_1d  Adj_Vol_EMA_prev_20d  ADR_percent_5d  \\\n",
       "756138            430800.0              627680.0           4.615   \n",
       "756139            394500.0              615825.0           4.804   \n",
       "\n",
       "        ADR_percent_20d  \n",
       "756138            4.137  \n",
       "756139            4.232  "
      ]
     },
     "execution_count": 41,
     "metadata": {},
     "output_type": "execute_result"
    }
   ],
   "source": [
    "print(stocks_daily_ohlcv_eligible.shape)\n",
    "stocks_daily_ohlcv_eligible = stocks_daily_ohlcv_eligible[stocks_daily_ohlcv_eligible['Ticker'].\\\n",
    "                              isin(Tickers_with_eligible_lifetime['Ticker'].unique())].reset_index(drop=True)\n",
    "\n",
    "eligible_tickers = stocks_daily_ohlcv_eligible['Ticker'].unique()\n",
    "print(len(eligible_tickers)) \n",
    "print(stocks_daily_ohlcv_eligible.shape)\n",
    "stocks_daily_ohlcv_eligible.tail(2) "
   ]
  },
  {
   "cell_type": "code",
   "execution_count": 42,
   "metadata": {},
   "outputs": [],
   "source": [
    "stocks_daily_ohlcv_eligible = stocks_daily_ohlcv_eligible[-stocks_daily_ohlcv_eligible['Ticker'].isin( \\\n",
    "                ['BIPH','DNAD', 'GRPH', 'SPIR', 'ZWZZT', 'ZVZZT' ])].reset_index(drop=True) "
   ]
  },
  {
   "cell_type": "code",
   "execution_count": 44,
   "metadata": {},
   "outputs": [
    {
     "name": "stdout",
     "output_type": "stream",
     "text": [
      "(755570, 10)\n",
      "1340\n"
     ]
    }
   ],
   "source": [
    "stocks_daily_ohlcv_eligible1 = stocks_daily_ohlcv_eligible[['company_Name','Ticker', 'Date', 'Adjusted_Open', 'Adjusted_High','Adjusted_Low', 'Adjusted_close', 'Adjusted_Volume', 'Exchange' ,'close_to_adj_close_ratio']]\n",
    "print(stocks_daily_ohlcv_eligible1.shape)\n",
    "print(stocks_daily_ohlcv_eligible1['Ticker'].nunique())\n",
    "stocks_daily_ohlcv_eligible1.to_pickle(f'{PROJ_PATH}/{ML_DATA_FOLDER_PATH}/all_stocks_ohlcv.pkl') "
   ]
  },
  {
   "cell_type": "code",
   "execution_count": null,
   "metadata": {},
   "outputs": [],
   "source": [
    "%reset -f "
   ]
  },
  {
   "cell_type": "code",
   "execution_count": null,
   "metadata": {},
   "outputs": [],
   "source": []
  }
 ],
 "metadata": {
  "kernelspec": {
   "display_name": "stockpred_conda_env",
   "language": "python",
   "name": "stockpred_conda_env"
  },
  "language_info": {
   "codemirror_mode": {
    "name": "ipython",
    "version": 3
   },
   "file_extension": ".py",
   "mimetype": "text/x-python",
   "name": "python",
   "nbconvert_exporter": "python",
   "pygments_lexer": "ipython3",
   "version": "3.11.4"
  }
 },
 "nbformat": 4,
 "nbformat_minor": 4
}
