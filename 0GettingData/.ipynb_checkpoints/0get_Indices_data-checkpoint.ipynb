{
 "cells": [
  {
   "cell_type": "code",
   "execution_count": 34,
   "metadata": {},
   "outputs": [],
   "source": [
    "%reset -f\n",
    "import sys\n",
    "import os\n",
    "\n",
    "PROJ_PATH = os.path.abspath(os.path.join(os.getcwd(), \"..\"))\n",
    "\n",
    "sys.path.append(PROJ_PATH) \n",
    "\n",
    "import matplotlib as mpl\n",
    "import matplotlib.pyplot as plt\n",
    "import numpy as np\n",
    "import pandas as pd\n",
    "from sklearn import metrics\n",
    "from sklearn.metrics import mean_squared_error\n",
    "import itertools\n",
    "import random\n",
    "\n",
    "import datetime as DT\n",
    "from datetime import date\n",
    "from datetime import datetime, timedelta\n",
    "#import yfinance as yf\n",
    "\n",
    "import time\n",
    "from multiprocessing import Pool as ProcessPool \n",
    "from multiprocessing.dummy import Pool as ThreadPool\n",
    "\n",
    "import requests\n",
    "from io import StringIO\n",
    "import helper_functions as hfs\n",
    "\n",
    "\n",
    "from requests.adapters import HTTPAdapter\n",
    "from requests.packages.urllib3.util.retry import Retry \n",
    "\n",
    "import warnings\n",
    "warnings.simplefilter(\"ignore\", UserWarning)\n",
    "warnings.filterwarnings(\"ignore\")\n",
    "\n",
    "pd.set_option(\"display.max_columns\", None)  # to see all columns of dataframe\n",
    "pd.set_option(\"display.max_rows\", None)  # to see all rows of dataframe\n",
    "pd.set_option(\"display.max_colwidth\", None)  # to see the full (un-truncated) dataframe field/cell value "
   ]
  },
  {
   "cell_type": "code",
   "execution_count": 35,
   "metadata": {},
   "outputs": [
    {
     "name": "stdout",
     "output_type": "stream",
     "text": [
      "SPLIT_DATE:  2023-08-09\n",
      "2019-05-02 00:00:00\n"
     ]
    }
   ],
   "source": [
    "import configparser\n",
    "\n",
    "env_config = configparser.ConfigParser()\n",
    "env_config.read(f'{PROJ_PATH}/kye/env_config.ini')\n",
    "\n",
    "# <<<<<<<<<<<<<<< >>>>>>>>>>>>>>>>>>>>>>> #\n",
    "SPLIT_DATE = env_config['ENV_VARS']['SPLIT_DATE']\n",
    "config = {}\n",
    "config['api_key'] = env_config['KEYS']['DATA_KEY']\n",
    "ML_DATA_FOLDER_PATH = env_config['LOCAL_PATHS']['ML_DATA_FOLDER_PATH']\n",
    "PROCESSING_TEMP_FOLDER_PATH = env_config['LOCAL_PATHS']['PROCESSING_TEMP_FOLDER_PATH'] \n",
    "\n",
    "#@@@@@@ **********************<<<<<<<<<<<<#\n",
    "\n",
    "print(\"SPLIT_DATE: \", SPLIT_DATE)\n",
    "today = str(date.today())\n",
    "FROM_DATE = pd.to_datetime(date.today(), format='%Y-%m-%d') - DT.timedelta(days=((365*4) + 100)) # \"2016-01-01\"\n",
    "to_date = str(date.today())\n",
    "print(FROM_DATE) "
   ]
  },
  {
   "cell_type": "code",
   "execution_count": 36,
   "metadata": {},
   "outputs": [],
   "source": [
    "indices = ['GSPC']"
   ]
  },
  {
   "cell_type": "markdown",
   "metadata": {},
   "source": [
    "# Historical data on Indices"
   ]
  },
  {
   "cell_type": "code",
   "execution_count": 37,
   "metadata": {},
   "outputs": [],
   "source": [
    "def get_indices_history_eod(symbol=\"DJI\", from_yyyy_mm_dd = \"all\", to_yyyy_mm_dd = \"all\", api_token = config['api_key']):\n",
    "        \n",
    "    if from_yyyy_mm_dd != \"all\":\n",
    "        #url = \"https://eodhistoricaldata.com/api/eod/\" + symbol + \".INDX?from=\"+from_yyyy_mm_dd+\"&to=\"+to_yyyy_mm_dd+\"&api_token=\" + config['api_key']\n",
    "        url = \"https://eodhistoricaldata.com/api/eod/\" + symbol + \".INDX?from=\"+from_yyyy_mm_dd+\"&api_token=\" + config['api_key']\n",
    "    else:\n",
    "        url = \"https://eodhistoricaldata.com/api/eod/\" + symbol + \".INDX?&api_token=\" + config['api_key']\n",
    "\n",
    "    r = hfs.requests_retry_session().get(url)\n",
    "    c = 0\n",
    "    while r.status_code != requests.codes.ok:\n",
    "\n",
    "        #print(\"status code not ok \", r.status_code,  symbol)\n",
    "        #print(symbol,\":\", r.status_code, \", \", r.reason)\n",
    "\n",
    "        if r.status_code == 429: \n",
    "            if c == 5:\n",
    "                print(\"c == 5 breaking\", symbol)\n",
    "                break\n",
    "            time.sleep(random.randint(4, 8))\n",
    "            r = hfs.requests_retry_session().get(url)\n",
    "            c+=1\n",
    "\n",
    "        else:\n",
    "            print(symbol, \" breaking : \" + str(r.status_code) + \" <> status code\") \n",
    "            break\n",
    "\n",
    "    else:\n",
    "\n",
    "        df = pd.read_csv(StringIO(r.text), skipfooter=0, engine='python').reset_index(drop=True) #  \n",
    "        df['Ticker'] = symbol\n",
    "        return df.reset_index(drop=True) "
   ]
  },
  {
   "cell_type": "markdown",
   "metadata": {},
   "source": [
    "### Getting Indices' Daily OHLCV"
   ]
  },
  {
   "cell_type": "code",
   "execution_count": 38,
   "metadata": {},
   "outputs": [
    {
     "name": "stdout",
     "output_type": "stream",
     "text": [
      "chunk  1 :  1\n",
      "total time:  0.2059628963470459\n",
      "returning df\n",
      "unique #tickers:  1\n",
      "(1076, 8)\n",
      "(1076, 8)\n"
     ]
    },
    {
     "data": {
      "text/html": [
       "<div>\n",
       "<style scoped>\n",
       "    .dataframe tbody tr th:only-of-type {\n",
       "        vertical-align: middle;\n",
       "    }\n",
       "\n",
       "    .dataframe tbody tr th {\n",
       "        vertical-align: top;\n",
       "    }\n",
       "\n",
       "    .dataframe thead th {\n",
       "        text-align: right;\n",
       "    }\n",
       "</style>\n",
       "<table border=\"1\" class=\"dataframe\">\n",
       "  <thead>\n",
       "    <tr style=\"text-align: right;\">\n",
       "      <th></th>\n",
       "      <th>Date</th>\n",
       "      <th>Open</th>\n",
       "      <th>High</th>\n",
       "      <th>Low</th>\n",
       "      <th>Close</th>\n",
       "      <th>Adjusted_close</th>\n",
       "      <th>Volume</th>\n",
       "      <th>Ticker</th>\n",
       "    </tr>\n",
       "  </thead>\n",
       "  <tbody>\n",
       "    <tr>\n",
       "      <th>1074</th>\n",
       "      <td>2023-08-08</td>\n",
       "      <td>4498.0298</td>\n",
       "      <td>4503.3101</td>\n",
       "      <td>4464.3901</td>\n",
       "      <td>4499.3799</td>\n",
       "      <td>4499.3799</td>\n",
       "      <td>3884910000</td>\n",
       "      <td>GSPC</td>\n",
       "    </tr>\n",
       "    <tr>\n",
       "      <th>1075</th>\n",
       "      <td>2023-08-09</td>\n",
       "      <td>4501.5698</td>\n",
       "      <td>4502.4399</td>\n",
       "      <td>4461.3301</td>\n",
       "      <td>4467.7100</td>\n",
       "      <td>4467.7100</td>\n",
       "      <td>2018497000</td>\n",
       "      <td>GSPC</td>\n",
       "    </tr>\n",
       "  </tbody>\n",
       "</table>\n",
       "</div>"
      ],
      "text/plain": [
       "            Date       Open       High        Low      Close  Adjusted_close  \\\n",
       "1074  2023-08-08  4498.0298  4503.3101  4464.3901  4499.3799       4499.3799   \n",
       "1075  2023-08-09  4501.5698  4502.4399  4461.3301  4467.7100       4467.7100   \n",
       "\n",
       "          Volume Ticker  \n",
       "1074  3884910000   GSPC  \n",
       "1075  2018497000   GSPC  "
      ]
     },
     "execution_count": 38,
     "metadata": {},
     "output_type": "execute_result"
    }
   ],
   "source": [
    "tickers = indices\n",
    "\n",
    "args = ((symbol,      \n",
    "        str(FROM_DATE).split()[0],   # From date\n",
    "         str(date.today()), # to date\n",
    "        config['api_key']) for symbol in tickers )\n",
    "\n",
    "indices_daily_ohlcv = hfs.get_data_from_API(tickers = tickers,\n",
    "                                          func_to_run = get_indices_history_eod,\n",
    "                                          func_args = args )\n",
    "\n",
    "print(\"unique #tickers: \", indices_daily_ohlcv['Ticker'].nunique()) \n",
    "print(indices_daily_ohlcv.shape) \n",
    "indices_daily_ohlcv = indices_daily_ohlcv[-pd.isnull(indices_daily_ohlcv['Close'])].reset_index(drop=True) \n",
    "print(indices_daily_ohlcv.shape) \n",
    "indices_daily_ohlcv.tail(2) "
   ]
  },
  {
   "cell_type": "markdown",
   "metadata": {},
   "source": [
    "### Adjust for splits"
   ]
  },
  {
   "cell_type": "code",
   "execution_count": 39,
   "metadata": {},
   "outputs": [
    {
     "name": "stdout",
     "output_type": "stream",
     "text": [
      "(1076, 8)\n"
     ]
    },
    {
     "data": {
      "text/html": [
       "<div>\n",
       "<style scoped>\n",
       "    .dataframe tbody tr th:only-of-type {\n",
       "        vertical-align: middle;\n",
       "    }\n",
       "\n",
       "    .dataframe tbody tr th {\n",
       "        vertical-align: top;\n",
       "    }\n",
       "\n",
       "    .dataframe thead th {\n",
       "        text-align: right;\n",
       "    }\n",
       "</style>\n",
       "<table border=\"1\" class=\"dataframe\">\n",
       "  <thead>\n",
       "    <tr style=\"text-align: right;\">\n",
       "      <th></th>\n",
       "      <th>Ticker</th>\n",
       "      <th>Date</th>\n",
       "      <th>Adj_Open</th>\n",
       "      <th>Adj_High</th>\n",
       "      <th>Adj_Low</th>\n",
       "      <th>Adj_Close</th>\n",
       "      <th>Adj_Volume</th>\n",
       "      <th>close_to_adj_close_ratio</th>\n",
       "    </tr>\n",
       "  </thead>\n",
       "  <tbody>\n",
       "    <tr>\n",
       "      <th>1074</th>\n",
       "      <td>GSPC</td>\n",
       "      <td>2023-08-08</td>\n",
       "      <td>4498.0298</td>\n",
       "      <td>4503.3101</td>\n",
       "      <td>4464.3901</td>\n",
       "      <td>4499.3799</td>\n",
       "      <td>3.884910e+09</td>\n",
       "      <td>1.0</td>\n",
       "    </tr>\n",
       "    <tr>\n",
       "      <th>1075</th>\n",
       "      <td>GSPC</td>\n",
       "      <td>2023-08-09</td>\n",
       "      <td>4501.5698</td>\n",
       "      <td>4502.4399</td>\n",
       "      <td>4461.3301</td>\n",
       "      <td>4467.7100</td>\n",
       "      <td>2.018497e+09</td>\n",
       "      <td>1.0</td>\n",
       "    </tr>\n",
       "  </tbody>\n",
       "</table>\n",
       "</div>"
      ],
      "text/plain": [
       "     Ticker        Date   Adj_Open   Adj_High    Adj_Low  Adj_Close  \\\n",
       "1074   GSPC  2023-08-08  4498.0298  4503.3101  4464.3901  4499.3799   \n",
       "1075   GSPC  2023-08-09  4501.5698  4502.4399  4461.3301  4467.7100   \n",
       "\n",
       "        Adj_Volume  close_to_adj_close_ratio  \n",
       "1074  3.884910e+09                       1.0  \n",
       "1075  2.018497e+09                       1.0  "
      ]
     },
     "execution_count": 39,
     "metadata": {},
     "output_type": "execute_result"
    }
   ],
   "source": [
    "indices_daily_ohlcv['close_to_adj_close_ratio'] = (indices_daily_ohlcv['Close'] / indices_daily_ohlcv['Adjusted_close']) #.astype(int) \n",
    "\n",
    "indices_daily_ohlcv['Adj_Open'] = np.where(indices_daily_ohlcv['close_to_adj_close_ratio'] == 1, \n",
    "                                          indices_daily_ohlcv['Open'],\n",
    "                                          indices_daily_ohlcv['Open'] / indices_daily_ohlcv['close_to_adj_close_ratio'])\n",
    "\n",
    "indices_daily_ohlcv['Adj_High'] = np.where(indices_daily_ohlcv['close_to_adj_close_ratio'] == 1, \n",
    "                                          indices_daily_ohlcv['High'],\n",
    "                                          indices_daily_ohlcv['High'] / indices_daily_ohlcv['close_to_adj_close_ratio'])\n",
    "\n",
    "indices_daily_ohlcv['Adj_Low'] = np.where(indices_daily_ohlcv['close_to_adj_close_ratio'] == 1, \n",
    "                                          indices_daily_ohlcv['Low'],\n",
    "                                          indices_daily_ohlcv['Low'] / indices_daily_ohlcv['close_to_adj_close_ratio'])\n",
    "\n",
    "indices_daily_ohlcv['Adj_Volume'] = np.where(indices_daily_ohlcv['close_to_adj_close_ratio'] == 1, \n",
    "                                          indices_daily_ohlcv['Volume'],\n",
    "                                          indices_daily_ohlcv['Volume'] * indices_daily_ohlcv['close_to_adj_close_ratio'])\n",
    "\n",
    "indices_daily_ohlcv.rename(columns={\"Adjusted_close\":\"Adj_Close\"}, inplace=True)\n",
    "\n",
    "indices_daily_ohlcv = indices_daily_ohlcv[['Ticker', 'Date', 'Adj_Open', 'Adj_High', 'Adj_Low', \n",
    "                                         'Adj_Close', 'Adj_Volume', 'close_to_adj_close_ratio']] \n",
    "\n",
    "print(indices_daily_ohlcv.shape) \n",
    "indices_daily_ohlcv.tail(2) "
   ]
  },
  {
   "cell_type": "code",
   "execution_count": 40,
   "metadata": {},
   "outputs": [],
   "source": [
    "indices_daily_ohlcv.to_pickle(f'{PROJ_PATH}/{ML_DATA_FOLDER_PATH}/indices_daily_ohlcv_{today}.pkl') "
   ]
  },
  {
   "cell_type": "code",
   "execution_count": 41,
   "metadata": {},
   "outputs": [],
   "source": [
    "%reset -f"
   ]
  },
  {
   "cell_type": "code",
   "execution_count": null,
   "metadata": {},
   "outputs": [],
   "source": []
  }
 ],
 "metadata": {
  "kernelspec": {
   "display_name": "stockpred_conda_env",
   "language": "python",
   "name": "stockpred_conda_env"
  },
  "language_info": {
   "codemirror_mode": {
    "name": "ipython",
    "version": 3
   },
   "file_extension": ".py",
   "mimetype": "text/x-python",
   "name": "python",
   "nbconvert_exporter": "python",
   "pygments_lexer": "ipython3",
   "version": "3.11.4"
  }
 },
 "nbformat": 4,
 "nbformat_minor": 4
}
