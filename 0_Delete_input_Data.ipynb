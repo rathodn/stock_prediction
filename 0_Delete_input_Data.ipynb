{
 "cells": [
  {
   "cell_type": "code",
   "execution_count": 1,
   "metadata": {},
   "outputs": [],
   "source": [
    "import os \n",
    "import sys \n",
    "\n",
    "PROJ_PATH = os.path.abspath(os.path.join(os.getcwd(), \".\"))\n",
    "\n",
    "sys.path.append(PROJ_PATH) \n",
    "\n",
    "import warnings \n",
    "\n",
    "import matplotlib as mpl \n",
    "import matplotlib.pyplot as plt  \n",
    "import numpy as np \n",
    "import pandas as pd \n",
    "from sklearn import metrics \n",
    "from sklearn.metrics import mean_squared_error \n",
    "import itertools \n",
    "from pandas.api.types import CategoricalDtype \n",
    "\n",
    "from datetime import date \n",
    "from datetime import datetime, timedelta \n",
    "import datetime as DT \n",
    "\n",
    "#import xgboost as xgb \n",
    "\n",
    "import helper_functions as hfs\n",
    "from scipy.stats import linregress\n",
    "import math\n",
    "from sklearn.decomposition import PCA\n",
    "\n",
    "from sklearn import metrics\n",
    "from sklearn.metrics import confusion_matrix\n",
    "\n",
    "warnings.simplefilter(\"ignore\", UserWarning)\n",
    "warnings.filterwarnings(\"ignore\")\n",
    "\n",
    "pd.set_option(\"display.max_columns\", None)  # to see all columns of dataframe\n",
    "pd.set_option(\"display.max_rows\", None)  # to see all rows of dataframe\n",
    "pd.set_option(\"display.max_colwidth\", None)  # to see the full (un-truncated) dataframe field/cell value "
   ]
  },
  {
   "cell_type": "code",
   "execution_count": 2,
   "metadata": {},
   "outputs": [
    {
     "name": "stdout",
     "output_type": "stream",
     "text": [
      "SPLIT_DATE:  2023-08-09 00:00:00\n"
     ]
    }
   ],
   "source": [
    "import configparser\n",
    "\n",
    "env_config = configparser.ConfigParser()\n",
    "env_config.read(f'{PROJ_PATH}/kye/env_config.ini')\n",
    "\n",
    "# <<<<<<<<<<<<<<< >>>>>>>>>>>>>>>>>>>>>>> #\n",
    "\n",
    "SPLIT_DATE = pd.to_datetime(env_config['ENV_VARS']['SPLIT_DATE'])\n",
    "ML_DATA_FOLDER_PATH = env_config['LOCAL_PATHS']['ML_DATA_FOLDER_PATH']\n",
    "PROCESSING_TEMP_FOLDER_PATH = env_config['LOCAL_PATHS']['PROCESSING_TEMP_FOLDER_PATH'] \n",
    "OUTPUTS_FOLDER_PATH = env_config['LOCAL_PATHS']['OUTPUT_FOLDER_PATH']\n",
    "\n",
    "#@@@@@@ **********************<<<<<<<<<<<<#\n",
    "\n",
    "print(\"SPLIT_DATE: \", SPLIT_DATE)\n",
    "today = str(date.today())\n",
    "FROM_DATE = pd.to_datetime(date.today(), format='%Y-%m-%d') - DT.timedelta(days=((365*4) + 60)) # \"2016-01-01\"\n",
    "to_date = str(date.today()) "
   ]
  },
  {
   "cell_type": "code",
   "execution_count": 3,
   "metadata": {},
   "outputs": [
    {
     "data": {
      "text/plain": [
       "'s3/input_data/ML_Data/'"
      ]
     },
     "execution_count": 3,
     "metadata": {},
     "output_type": "execute_result"
    }
   ],
   "source": [
    "ML_DATA_FOLDER_PATH"
   ]
  },
  {
   "cell_type": "code",
   "execution_count": 4,
   "metadata": {},
   "outputs": [
    {
     "data": {
      "text/plain": [
       "['all_stocks_ohlcv.pkl',\n",
       " 'stocks_current_fundamentals_1340_2023-08-09.pkl',\n",
       " 'indices_daily_ohlcv_2023-08-09.pkl',\n",
       " '.ipynb_checkpoints']"
      ]
     },
     "execution_count": 4,
     "metadata": {},
     "output_type": "execute_result"
    }
   ],
   "source": [
    "files_in_ML_DATA = os.listdir(ML_DATA_FOLDER_PATH)\n",
    "files_in_ML_DATA"
   ]
  },
  {
   "cell_type": "code",
   "execution_count": 5,
   "metadata": {},
   "outputs": [
    {
     "data": {
      "text/plain": [
       "['RIPOs_df.pkl',\n",
       " 'analytics_feature_ind.pkl',\n",
       " 'indices_daily_ohlcv_2023-08-09.pkl',\n",
       " '.ipynb_checkpoints',\n",
       " 'OHLCV_all_stocks_ohlcv_data_prep.pkl',\n",
       " 'predicted_EPs.pkl']"
      ]
     },
     "execution_count": 5,
     "metadata": {},
     "output_type": "execute_result"
    }
   ],
   "source": [
    "files_in_PROCESSING_TEMP = os.listdir(PROCESSING_TEMP_FOLDER_PATH)\n",
    "files_in_PROCESSING_TEMP"
   ]
  },
  {
   "cell_type": "code",
   "execution_count": 6,
   "metadata": {},
   "outputs": [],
   "source": [
    "files_in_D1_OUTPUTS = os.listdir(f\"{PROJ_PATH}/{OUTPUTS_FOLDER_PATH}/D1\") \n",
    "files_in_D3_OUTPUTS = os.listdir(f\"{PROJ_PATH}/{OUTPUTS_FOLDER_PATH}/D3\") "
   ]
  },
  {
   "cell_type": "code",
   "execution_count": 7,
   "metadata": {},
   "outputs": [],
   "source": [
    "for item in files_in_ML_DATA:\n",
    "    try:\n",
    "        os.remove(f\"{PROJ_PATH}/{ML_DATA_FOLDER_PATH}/{item}\")\n",
    "    except:\n",
    "        pass\n",
    "\n",
    "for item in files_in_PROCESSING_TEMP:\n",
    "    try:\n",
    "        os.remove(f\"{PROJ_PATH}/{PROCESSING_TEMP_FOLDER_PATH}/{item}\")\n",
    "    except:\n",
    "        pass\n",
    "    \n",
    "for item in files_in_D1_OUTPUTS:\n",
    "    try:\n",
    "        os.remove(f\"{PROJ_PATH}/{OUTPUTS_FOLDER_PATH}/D1/{item}\")\n",
    "    except:\n",
    "        pass"
   ]
  },
  {
   "cell_type": "code",
   "execution_count": null,
   "metadata": {},
   "outputs": [],
   "source": []
  }
 ],
 "metadata": {
  "kernelspec": {
   "display_name": "stockpred_conda_env",
   "language": "python",
   "name": "stockpred_conda_env"
  },
  "language_info": {
   "codemirror_mode": {
    "name": "ipython",
    "version": 3
   },
   "file_extension": ".py",
   "mimetype": "text/x-python",
   "name": "python",
   "nbconvert_exporter": "python",
   "pygments_lexer": "ipython3",
   "version": "3.11.4"
  }
 },
 "nbformat": 4,
 "nbformat_minor": 4
}
